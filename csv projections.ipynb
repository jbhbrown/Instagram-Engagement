{
 "cells": [
  {
   "cell_type": "code",
   "execution_count": 173,
   "metadata": {},
   "outputs": [],
   "source": [
    "import pandas\n",
    "from matplotlib import pyplot\n",
    "import numpy\n",
    "from sklearn.linear_model import LinearRegression"
   ]
  },
  {
   "cell_type": "markdown",
   "metadata": {},
   "source": [
    "# Notes about this project\n",
    "The reason we only looked at _ x _ posts is because running the entire data collection code takes around 20-30 minutes, plus it takes times to run when we are making edits to the code and testing it. We decided that we did not have sufficient time to collect data on thousands of posts as the data collection code would have taken hours to run."
   ]
  },
  {
   "cell_type": "code",
   "execution_count": 82,
   "metadata": {},
   "outputs": [],
   "source": [
    "data = pandas.read_csv(\"data.csv\")\n",
    "## NOTE: WE MANUALLY DELETED THE LAST 20 (ROW) ENTRIES IN THE DATASET BECAUSE\n",
    "## INSTAGRAM STARTED BLOCKING OUR REQUESTS TO THE WEBSITE AND WE WERE NOT \n",
    "## ABLE TO COLLECT THE CORREXT #OF LIKES FOR THE HASHTAGS USED IN THE FINAL 20 POSTS"
   ]
  },
  {
   "cell_type": "code",
   "execution_count": 83,
   "metadata": {},
   "outputs": [
    {
     "data": {
      "text/html": [
       "<div>\n",
       "<style scoped>\n",
       "    .dataframe tbody tr th:only-of-type {\n",
       "        vertical-align: middle;\n",
       "    }\n",
       "\n",
       "    .dataframe tbody tr th {\n",
       "        vertical-align: top;\n",
       "    }\n",
       "\n",
       "    .dataframe thead th {\n",
       "        text-align: right;\n",
       "    }\n",
       "</style>\n",
       "<table border=\"1\" class=\"dataframe\">\n",
       "  <thead>\n",
       "    <tr style=\"text-align: right;\">\n",
       "      <th></th>\n",
       "      <th>posted by</th>\n",
       "      <th>post url</th>\n",
       "      <th>tagges users</th>\n",
       "      <th>tagged users followers</th>\n",
       "      <th>tags</th>\n",
       "      <th>tag post totals</th>\n",
       "      <th>likes</th>\n",
       "    </tr>\n",
       "  </thead>\n",
       "  <tbody>\n",
       "    <tr>\n",
       "      <th>0</th>\n",
       "      <td>cristiano</td>\n",
       "      <td>https://www.instagram.com/p/BxBCZkZg39M/</td>\n",
       "      <td>NaN</td>\n",
       "      <td>0</td>\n",
       "      <td>['finoallafine']</td>\n",
       "      <td>[2029020]</td>\n",
       "      <td>4483294</td>\n",
       "    </tr>\n",
       "    <tr>\n",
       "      <th>1</th>\n",
       "      <td>cristiano</td>\n",
       "      <td>https://www.instagram.com/p/Bw5BLO8gj3h/</td>\n",
       "      <td>cr7_footwear</td>\n",
       "      <td>1100000</td>\n",
       "      <td>['ayemose']</td>\n",
       "      <td>[131]</td>\n",
       "      <td>3708111</td>\n",
       "    </tr>\n",
       "    <tr>\n",
       "      <th>2</th>\n",
       "      <td>cristiano</td>\n",
       "      <td>https://www.instagram.com/p/Bw4oZrMgA2k/</td>\n",
       "      <td>juventus</td>\n",
       "      <td>25700000</td>\n",
       "      <td>['TopTraining']</td>\n",
       "      <td>[19980]</td>\n",
       "      <td>4178957</td>\n",
       "    </tr>\n",
       "    <tr>\n",
       "      <th>3</th>\n",
       "      <td>cristiano</td>\n",
       "      <td>https://www.instagram.com/p/BwzC96LggFK/</td>\n",
       "      <td>nikefootball</td>\n",
       "      <td>37600000</td>\n",
       "      <td>[]</td>\n",
       "      <td>[0]</td>\n",
       "      <td>6984193</td>\n",
       "    </tr>\n",
       "    <tr>\n",
       "      <th>4</th>\n",
       "      <td>cristiano</td>\n",
       "      <td>https://www.instagram.com/p/BwumY9ZAY9K/</td>\n",
       "      <td>NaN</td>\n",
       "      <td>0</td>\n",
       "      <td>[]</td>\n",
       "      <td>[0]</td>\n",
       "      <td>3224458</td>\n",
       "    </tr>\n",
       "  </tbody>\n",
       "</table>\n",
       "</div>"
      ],
      "text/plain": [
       "   posted by                                  post url  tagges users  \\\n",
       "0  cristiano  https://www.instagram.com/p/BxBCZkZg39M/           NaN   \n",
       "1  cristiano  https://www.instagram.com/p/Bw5BLO8gj3h/  cr7_footwear   \n",
       "2  cristiano  https://www.instagram.com/p/Bw4oZrMgA2k/      juventus   \n",
       "3  cristiano  https://www.instagram.com/p/BwzC96LggFK/  nikefootball   \n",
       "4  cristiano  https://www.instagram.com/p/BwumY9ZAY9K/           NaN   \n",
       "\n",
       "   tagged users followers              tags tag post totals    likes  \n",
       "0                       0  ['finoallafine']       [2029020]  4483294  \n",
       "1                 1100000       ['ayemose']           [131]  3708111  \n",
       "2                25700000   ['TopTraining']         [19980]  4178957  \n",
       "3                37600000                []             [0]  6984193  \n",
       "4                       0                []             [0]  3224458  "
      ]
     },
     "execution_count": 83,
     "metadata": {},
     "output_type": "execute_result"
    }
   ],
   "source": [
    "## THIS IS THE EXACT SAME DATA WAS GOTTEN FROM THE DATA COLLECTION CODE BUT:\n",
    "## THE COLLECTION CODE TAKES A LONG TIME TO RUN SO WE ADDED THIS DATA MANUALLY\n",
    "LIKES_ARRAY = [4483294, 3708111, 4178957, 6984193, 3224458, 8739073, 5133205, 6406600, 10087891, 11247342, 3458224, 5346193, 6799432, 11830880, 4360732, 5916849, 6250777, 5736668, 4567396, 4462150, 4348534, 13057022, 2089484, 1308303, 1598116, 9479898, 13573980, 2617348, 3422830, 7386121, 3164100, 7511268, 3869964, 9477146, 10210784, 4018320, 5690404, 3871318, 3193787, 5217435, 1207574, 2729145, 3766982, 1957126, 4128741, 1764685, 2785604, 1458842, 3728431, 1269786, 4992705, 2410304, 2451412, 2733017, 4693404, 3055137, 5019498, 3056120, 3566537, 3703442, 3884396, 6111239, 7126403, 3402345, 2117989, 2917319, 3690195, 1970230, 2322381, 3447436, 1141412, 6017087, 3139501, 5947994, 1559421, 949038, 289989, 996724, 1666675, 914169, 524182, 619185, 882543, 500733, 1203534, 804661, 9336537, 4235830, 3000757, 4563691, 3635997, 2087422, 2020121, 2605911, 3268014, 3206937, 1467495, 1306256, 1116568, 1401323, 1872385, 1029612, 1422284, 2162014, 1729793, 1946467, 1251017, 544430, 1353501, 2343690, 361101, 1805896, 2083224, 496783, 1779481, 2275731, 1796609, 295961, 997418, 2794573, 2661408, 3932474, 4675503, 5773655, 2123505, 1900195, 5177120, 6770884, 611756, 945242, 1343803, 2105530, 3849907, 1187083, 1351716, 1855851, 2878877, 652920, 2716387, 1793345, 1719805, 1462443, 1446312, 2472603, 2538084, 2408094, 1724946, 3786138, 2392499, 1283081, 2111950, 532519, 1004515, 1319839, 1693965, 4344975, 2581748, 3064884, 2613511, 1813892, 1616407, 1650587, 1239346, 1869805, 2081102, 1080475, 1803681, 3272794, 1107985, 1712764, 1258366, 1751278, 1158466, 399817, 2364130, 1360016, 1153430, 3218524, 976527, 924741, 4365955, 3233164, 4991641, 4323202, 4584658, 4640790, 3392396, 6590011, 4214886, 2499224, 761172, 4258173, 1884895, 1831758, 2846518, 2615105, 1571838, 2647240, 2094164, 2801308, 2413789, 2789154, 2500759, 4665034, 1025006, 4456183, 3783771, 1773517, 1335685, 891084, 1372408, 1491368, 1939348, 1505075, 1236035, 11393095, 6597305, 7534965, 2323470, 4909491, 3511510, 2171702, 747049, 2476534, 3022585, 2348239, 3786823, 2681367, 2297035, 933263, 1110277, 987517, 2478262, 1332837, 4861386, 2765685, 4949511, 1027487, 3628257, 2922036, 3187878, 3574473, 3246406, 2233599, 3720461, 4916557, 3833356, 4586090, 2640427, 3734563, 1623333, 1657382, 1437825, 2024206, 1165992, 2898939, 1413953, 1762133, 1071005, 1355891, 2164586, 3871850, 1893645, 1779127, 1709045, 2795068, 2146597, 1877911, 4048335, 1652097, 4652799, 3084461, 5689903, 2886384, 5234383, 2303308, 1505717, 9052488, 940091, 989925, 1115452, 515407, 779600, 2087554, 1345248, 756608, 1069362, 1522802, 1318792, 2413231, 350294, 1012783, 706986, 633642, 891543, 1607112, 1119535, 1735602, 571299, 2068220, 1343353, 472461, 1866589, 1493724, 1651347, 1308197, 802257, 2948135, 1986410, 1287185, 1041113, 1729009, 601670, 1553781, 669192, 1266255, 1611680, 1907872, 1196468, 1353692, 811703, 1508652, 1274392, 3328707, 5193774, 5098699, 2412454, 1602845, 1049027, 1120155, 720930, 964136, 976911, 267457, 1209976, 1207821, 2150410, 5494743, 1151598, 2855811, 3697656, 2385658, 1594382, 4351224, 2673928, 1657822, 445412, 826519, 1888116, 1976454, 716188, 769972, 711064, 964486, 3052925, 2107781, 2908585, 2276316, 3812919, 3287302, 2056023, 3671984, 2190480, 762685, 857272, 1589078, 806816, 1647523, 1158660, 897962, 1543299, 618229, 1748110, 1863540, 1766706, 2056835, 2018239, 1492207, 1468994, 1495993, 2550923, 1707839, 1570270, 1492223, 1364513, 972160, 942789, 2710878, 1185962, 1402282, 448110, 926086, 566678, 628357, 1658565, 713017, 301440, 684902, 343435, 814013, 712137, 267176, 1504969, 1140407, 1618330, 2584720, 5958301, 2279900, 578846, 589862, 740012, 2094540, 703203, 1913679, 1997681, 2598078, 2179123, 3649758, 2544848, 3001766, 2445660, 3536326, 3155364, 4016510, 192578, 792271, 856531, 1067104, 790024, 377175, 877676, 1963536, 1391170, 381088, 386902, 367727, 1347272, 1230508, 2313419, 1933104, 712606, 3526846, 1595577, 678795, 2491124, 3455646, 2277551]\n",
    "LIKES_ARRAY = LIKES_ARRAY[:len(LIKES_ARRAY)-20]\n",
    "data[\"likes\"] = LIKES_ARRAY\n",
    "\n",
    "data.head(5)\n",
    "# data.head(-1)\n",
    "\n"
   ]
  },
  {
   "cell_type": "code",
   "execution_count": 84,
   "metadata": {},
   "outputs": [
    {
     "data": {
      "text/html": [
       "<div>\n",
       "<style scoped>\n",
       "    .dataframe tbody tr th:only-of-type {\n",
       "        vertical-align: middle;\n",
       "    }\n",
       "\n",
       "    .dataframe tbody tr th {\n",
       "        vertical-align: top;\n",
       "    }\n",
       "\n",
       "    .dataframe thead th {\n",
       "        text-align: right;\n",
       "    }\n",
       "</style>\n",
       "<table border=\"1\" class=\"dataframe\">\n",
       "  <thead>\n",
       "    <tr style=\"text-align: right;\">\n",
       "      <th></th>\n",
       "      <th>posted by</th>\n",
       "      <th>post url</th>\n",
       "      <th>tagges users</th>\n",
       "      <th>tagged users followers</th>\n",
       "      <th>tags</th>\n",
       "      <th>tag post totals</th>\n",
       "      <th>likes</th>\n",
       "      <th>comments</th>\n",
       "    </tr>\n",
       "  </thead>\n",
       "  <tbody>\n",
       "    <tr>\n",
       "      <th>0</th>\n",
       "      <td>cristiano</td>\n",
       "      <td>https://www.instagram.com/p/BxBCZkZg39M/</td>\n",
       "      <td>NaN</td>\n",
       "      <td>0</td>\n",
       "      <td>['finoallafine']</td>\n",
       "      <td>[2029020]</td>\n",
       "      <td>4483294</td>\n",
       "      <td>26800</td>\n",
       "    </tr>\n",
       "    <tr>\n",
       "      <th>1</th>\n",
       "      <td>cristiano</td>\n",
       "      <td>https://www.instagram.com/p/Bw5BLO8gj3h/</td>\n",
       "      <td>cr7_footwear</td>\n",
       "      <td>1100000</td>\n",
       "      <td>['ayemose']</td>\n",
       "      <td>[131]</td>\n",
       "      <td>3708111</td>\n",
       "      <td>29000</td>\n",
       "    </tr>\n",
       "    <tr>\n",
       "      <th>2</th>\n",
       "      <td>cristiano</td>\n",
       "      <td>https://www.instagram.com/p/Bw4oZrMgA2k/</td>\n",
       "      <td>juventus</td>\n",
       "      <td>25700000</td>\n",
       "      <td>['TopTraining']</td>\n",
       "      <td>[19980]</td>\n",
       "      <td>4178957</td>\n",
       "      <td>18000</td>\n",
       "    </tr>\n",
       "    <tr>\n",
       "      <th>3</th>\n",
       "      <td>cristiano</td>\n",
       "      <td>https://www.instagram.com/p/BwzC96LggFK/</td>\n",
       "      <td>nikefootball</td>\n",
       "      <td>37600000</td>\n",
       "      <td>[]</td>\n",
       "      <td>[0]</td>\n",
       "      <td>6984193</td>\n",
       "      <td>45900</td>\n",
       "    </tr>\n",
       "    <tr>\n",
       "      <th>4</th>\n",
       "      <td>cristiano</td>\n",
       "      <td>https://www.instagram.com/p/BwumY9ZAY9K/</td>\n",
       "      <td>NaN</td>\n",
       "      <td>0</td>\n",
       "      <td>[]</td>\n",
       "      <td>[0]</td>\n",
       "      <td>3224458</td>\n",
       "      <td>13000</td>\n",
       "    </tr>\n",
       "  </tbody>\n",
       "</table>\n",
       "</div>"
      ],
      "text/plain": [
       "   posted by                                  post url  tagges users  \\\n",
       "0  cristiano  https://www.instagram.com/p/BxBCZkZg39M/           NaN   \n",
       "1  cristiano  https://www.instagram.com/p/Bw5BLO8gj3h/  cr7_footwear   \n",
       "2  cristiano  https://www.instagram.com/p/Bw4oZrMgA2k/      juventus   \n",
       "3  cristiano  https://www.instagram.com/p/BwzC96LggFK/  nikefootball   \n",
       "4  cristiano  https://www.instagram.com/p/BwumY9ZAY9K/           NaN   \n",
       "\n",
       "   tagged users followers              tags tag post totals    likes  comments  \n",
       "0                       0  ['finoallafine']       [2029020]  4483294     26800  \n",
       "1                 1100000       ['ayemose']           [131]  3708111     29000  \n",
       "2                25700000   ['TopTraining']         [19980]  4178957     18000  \n",
       "3                37600000                []             [0]  6984193     45900  \n",
       "4                       0                []             [0]  3224458     13000  "
      ]
     },
     "execution_count": 84,
     "metadata": {},
     "output_type": "execute_result"
    }
   ],
   "source": [
    "## WE ALSO MANUALLY ADDED THE COMMENTS DATA COLLECTED FROM THE DATA COLLECTION\n",
    "COMMENTS_ARRAY = [26800, 29000, 18000, 45900, 13000, 54700, 20900, 68000, 81700, 143300, 21300, 24600, 69000, 182700, 44500, 73000, 82100, 45900, 48300, 17100, 18400, 200300, 72600, 157500, 22200, 67600, 80700, 33300, 69500, 38200, 13600, 50700, 15100, 152100, 94600, 15100, 28300, 23800, 11600, 31800, 183, 27600, 37300, 10700, 32000, 285, 27100, 250, 37300, 489, 28300, 12000, 561, 19000, 25300, 34700, 37300, 32200, 19100, 21300, 41800, 76700, 87800, 50100, 19400, 23600, 30300, 11500, 17500, 21900, 478, 83900, 30000, 77200, 535, 495, 280, 14200, 12800, 10200, 53, 70, 723, 791, 10600, 11400, 120700, 21800, 20600, 21600, 350, 137, 16500, 15500, 13000, 12700, 11100, 32, 13, 15, 1, 22, 11, 70, 33, 18, 359, 603, 213, 12800, 546, 716, 962, 969, 19300, 11500, 35, 5, 686, 31100, 33200, 65900, 83100, 180000, 36500, 36500, 112600, 219500, 624, 575, 23900, 148200, 67400, 35200, 16800, 12700, 22600, 270, 22800, 0, 0, 0, 0, 0, 0, 0, 0, 21800, 14600, 722, 13400, 522, 489, 32100, 11800, 40400, 18200, 21000, 18100, 272, 939, 31, 658, 864, 11300, 620, 270, 23500, 498, 472, 235, 892, 16600, 832, 61700, 24300, 41900, 35700, 34200, 32700, 24600, 78400, 42600, 20300, 657, 46000, 18400, 37500, 35600, 24800, 13900, 11500, 10700, 21500, 11200, 22900, 10000, 47300, 318, 13400, 904, 315, 955, 481, 754, 778, 607, 936, 985, 86400, 119900, 128300, 12400, 26500, 15100, 46100, 10000, 46400, 46500, 27600, 84100, 41700, 31600, 414, 43200, 16000, 19000, 17800, 12800, 36800, 63600, 18100, 29000, 10300, 16900, 615, 585, 330, 141, 317, 30500, 26, 540, 551, 363, 15600, 487, 33600, 21800, 26400, 10800, 41100, 555, 475, 168700, 951, 424, 969, 553, 55, 779, 643, 195, 653, 474, 386, 287, 917, 245, 210, 792, 292, 499, 598, 349, 387, 497, 706, 45, 780, 20, 11500, 603, 138, 458, 401, 148, 400, 552, 906, 718, 615, 565, 11100, 14300, 893, 10100, 350, 607, 130, 13400, 20200, 22900, 523, 674, 555, 637, 415, 682, 752, 304, 555, 777, 863, 76600, 106, 10900, 12300, 428, 331, 27500, 12400, 234, 852, 976, 953, 16000, 855, 12400, 642, 18800, 24400, 12200, 14800, 10800, 25100, 19600, 11, 19500, 529, 780, 602, 283, 200, 993, 518, 696, 10100, 654, 11100, 10500, 704, 17500, 12800, 149, 303, 177, 238, 718, 945, 868, 915, 56, 39, 265, 78, 71, 44, 92, 41, 35, 43, 31, 922, 637, 289, 700, 496, 225, 572, 346, 16200, 11600, 52700, 10200, 382, 835, 123, 700, 41, 10100, 12600, 19000, 16500, 21300, 12200, 28500, 949, 50300, 21900, 114800, 602, 824, 606, 43, 979, 372, 886, 19100, 10000, 420, 468, 311, 740, 333, 16000, 237, 788, 12200, 17600, 504, 19351, 19351, 19351, 19351, 19351, 19351]\n",
    "COMMENTS_ARRAY = COMMENTS_ARRAY[:len(COMMENTS_ARRAY)]\n",
    "data[\"comments\"] = COMMENTS_ARRAY\n",
    "\n",
    "\n",
    "data.head(5)"
   ]
  },
  {
   "cell_type": "code",
   "execution_count": 85,
   "metadata": {},
   "outputs": [
    {
     "data": {
      "text/html": [
       "<div>\n",
       "<style scoped>\n",
       "    .dataframe tbody tr th:only-of-type {\n",
       "        vertical-align: middle;\n",
       "    }\n",
       "\n",
       "    .dataframe tbody tr th {\n",
       "        vertical-align: top;\n",
       "    }\n",
       "\n",
       "    .dataframe thead th {\n",
       "        text-align: right;\n",
       "    }\n",
       "</style>\n",
       "<table border=\"1\" class=\"dataframe\">\n",
       "  <thead>\n",
       "    <tr style=\"text-align: right;\">\n",
       "      <th></th>\n",
       "      <th>posted by</th>\n",
       "      <th>post url</th>\n",
       "      <th>tagges users</th>\n",
       "      <th>tagged users followers</th>\n",
       "      <th>tags</th>\n",
       "      <th>tag post totals</th>\n",
       "      <th>likes</th>\n",
       "      <th>comments</th>\n",
       "    </tr>\n",
       "  </thead>\n",
       "  <tbody>\n",
       "    <tr>\n",
       "      <th>0</th>\n",
       "      <td>cristiano</td>\n",
       "      <td>https://www.instagram.com/p/BxBCZkZg39M/</td>\n",
       "      <td>NaN</td>\n",
       "      <td>0</td>\n",
       "      <td>['finoallafine']</td>\n",
       "      <td>[2029020]</td>\n",
       "      <td>4483294</td>\n",
       "      <td>26800</td>\n",
       "    </tr>\n",
       "    <tr>\n",
       "      <th>1</th>\n",
       "      <td>cristiano</td>\n",
       "      <td>https://www.instagram.com/p/Bw5BLO8gj3h/</td>\n",
       "      <td>cr7_footwear</td>\n",
       "      <td>1100000</td>\n",
       "      <td>['ayemose']</td>\n",
       "      <td>[131]</td>\n",
       "      <td>3708111</td>\n",
       "      <td>29000</td>\n",
       "    </tr>\n",
       "    <tr>\n",
       "      <th>2</th>\n",
       "      <td>cristiano</td>\n",
       "      <td>https://www.instagram.com/p/Bw4oZrMgA2k/</td>\n",
       "      <td>juventus</td>\n",
       "      <td>25700000</td>\n",
       "      <td>['TopTraining']</td>\n",
       "      <td>[19980]</td>\n",
       "      <td>4178957</td>\n",
       "      <td>18000</td>\n",
       "    </tr>\n",
       "    <tr>\n",
       "      <th>3</th>\n",
       "      <td>cristiano</td>\n",
       "      <td>https://www.instagram.com/p/BwzC96LggFK/</td>\n",
       "      <td>nikefootball</td>\n",
       "      <td>37600000</td>\n",
       "      <td>[]</td>\n",
       "      <td>[0]</td>\n",
       "      <td>6984193</td>\n",
       "      <td>45900</td>\n",
       "    </tr>\n",
       "    <tr>\n",
       "      <th>4</th>\n",
       "      <td>cristiano</td>\n",
       "      <td>https://www.instagram.com/p/BwumY9ZAY9K/</td>\n",
       "      <td>NaN</td>\n",
       "      <td>0</td>\n",
       "      <td>[]</td>\n",
       "      <td>[0]</td>\n",
       "      <td>3224458</td>\n",
       "      <td>13000</td>\n",
       "    </tr>\n",
       "    <tr>\n",
       "      <th>5</th>\n",
       "      <td>cristiano</td>\n",
       "      <td>https://www.instagram.com/p/Bwt33YNgXSu/</td>\n",
       "      <td>NaN</td>\n",
       "      <td>0</td>\n",
       "      <td>[]</td>\n",
       "      <td>[0]</td>\n",
       "      <td>8739073</td>\n",
       "      <td>54700</td>\n",
       "    </tr>\n",
       "    <tr>\n",
       "      <th>6</th>\n",
       "      <td>cristiano</td>\n",
       "      <td>https://www.instagram.com/p/Bwp15DWAsAA/</td>\n",
       "      <td>NaN</td>\n",
       "      <td>0</td>\n",
       "      <td>['CR7NikeMercurial']</td>\n",
       "      <td>[409]</td>\n",
       "      <td>5133205</td>\n",
       "      <td>20900</td>\n",
       "    </tr>\n",
       "    <tr>\n",
       "      <th>7</th>\n",
       "      <td>cristiano</td>\n",
       "      <td>https://www.instagram.com/p/BwpO70gALxz/</td>\n",
       "      <td>NaN</td>\n",
       "      <td>0</td>\n",
       "      <td>[]</td>\n",
       "      <td>[0]</td>\n",
       "      <td>6406600</td>\n",
       "      <td>68000</td>\n",
       "    </tr>\n",
       "    <tr>\n",
       "      <th>8</th>\n",
       "      <td>cristiano</td>\n",
       "      <td>https://www.instagram.com/p/BwmyBuclxzo/</td>\n",
       "      <td>NaN</td>\n",
       "      <td>0</td>\n",
       "      <td>['late']</td>\n",
       "      <td>[6144417]</td>\n",
       "      <td>10087891</td>\n",
       "      <td>81700</td>\n",
       "    </tr>\n",
       "    <tr>\n",
       "      <th>9</th>\n",
       "      <td>selenagomez</td>\n",
       "      <td>https://www.instagram.com/p/Bw9_ilQAOWM/</td>\n",
       "      <td>krahs</td>\n",
       "      <td>361000</td>\n",
       "      <td>['sdv']</td>\n",
       "      <td>[6229771]</td>\n",
       "      <td>11247342</td>\n",
       "      <td>143300</td>\n",
       "    </tr>\n",
       "  </tbody>\n",
       "</table>\n",
       "</div>"
      ],
      "text/plain": [
       "     posted by                                  post url  tagges users  \\\n",
       "0    cristiano  https://www.instagram.com/p/BxBCZkZg39M/           NaN   \n",
       "1    cristiano  https://www.instagram.com/p/Bw5BLO8gj3h/  cr7_footwear   \n",
       "2    cristiano  https://www.instagram.com/p/Bw4oZrMgA2k/      juventus   \n",
       "3    cristiano  https://www.instagram.com/p/BwzC96LggFK/  nikefootball   \n",
       "4    cristiano  https://www.instagram.com/p/BwumY9ZAY9K/           NaN   \n",
       "5    cristiano  https://www.instagram.com/p/Bwt33YNgXSu/           NaN   \n",
       "6    cristiano  https://www.instagram.com/p/Bwp15DWAsAA/           NaN   \n",
       "7    cristiano  https://www.instagram.com/p/BwpO70gALxz/           NaN   \n",
       "8    cristiano  https://www.instagram.com/p/BwmyBuclxzo/           NaN   \n",
       "9  selenagomez  https://www.instagram.com/p/Bw9_ilQAOWM/         krahs   \n",
       "\n",
       "   tagged users followers                  tags tag post totals     likes  \\\n",
       "0                       0      ['finoallafine']       [2029020]   4483294   \n",
       "1                 1100000           ['ayemose']           [131]   3708111   \n",
       "2                25700000       ['TopTraining']         [19980]   4178957   \n",
       "3                37600000                    []             [0]   6984193   \n",
       "4                       0                    []             [0]   3224458   \n",
       "5                       0                    []             [0]   8739073   \n",
       "6                       0  ['CR7NikeMercurial']           [409]   5133205   \n",
       "7                       0                    []             [0]   6406600   \n",
       "8                       0              ['late']       [6144417]  10087891   \n",
       "9                  361000               ['sdv']       [6229771]  11247342   \n",
       "\n",
       "   comments  \n",
       "0     26800  \n",
       "1     29000  \n",
       "2     18000  \n",
       "3     45900  \n",
       "4     13000  \n",
       "5     54700  \n",
       "6     20900  \n",
       "7     68000  \n",
       "8     81700  \n",
       "9    143300  "
      ]
     },
     "execution_count": 85,
     "metadata": {},
     "output_type": "execute_result"
    }
   ],
   "source": [
    "data.head(10)"
   ]
  },
  {
   "cell_type": "code",
   "execution_count": 86,
   "metadata": {},
   "outputs": [
    {
     "data": {
      "text/html": [
       "<div>\n",
       "<style scoped>\n",
       "    .dataframe tbody tr th:only-of-type {\n",
       "        vertical-align: middle;\n",
       "    }\n",
       "\n",
       "    .dataframe tbody tr th {\n",
       "        vertical-align: top;\n",
       "    }\n",
       "\n",
       "    .dataframe thead th {\n",
       "        text-align: right;\n",
       "    }\n",
       "</style>\n",
       "<table border=\"1\" class=\"dataframe\">\n",
       "  <thead>\n",
       "    <tr style=\"text-align: right;\">\n",
       "      <th></th>\n",
       "      <th>posted by</th>\n",
       "      <th>post url</th>\n",
       "      <th>tagges users</th>\n",
       "      <th>tagged users followers</th>\n",
       "      <th>tags</th>\n",
       "      <th>tag post totals</th>\n",
       "      <th>likes</th>\n",
       "      <th>comments</th>\n",
       "    </tr>\n",
       "  </thead>\n",
       "  <tbody>\n",
       "    <tr>\n",
       "      <th>0</th>\n",
       "      <td>cristiano</td>\n",
       "      <td>https://www.instagram.com/p/BxBCZkZg39M/</td>\n",
       "      <td>NaN</td>\n",
       "      <td>0</td>\n",
       "      <td>['finoallafine']</td>\n",
       "      <td>[2029020]</td>\n",
       "      <td>4483294</td>\n",
       "      <td>26800</td>\n",
       "    </tr>\n",
       "    <tr>\n",
       "      <th>1</th>\n",
       "      <td>cristiano</td>\n",
       "      <td>https://www.instagram.com/p/Bw5BLO8gj3h/</td>\n",
       "      <td>cr7_footwear</td>\n",
       "      <td>1100000</td>\n",
       "      <td>['ayemose']</td>\n",
       "      <td>[131]</td>\n",
       "      <td>3708111</td>\n",
       "      <td>29000</td>\n",
       "    </tr>\n",
       "    <tr>\n",
       "      <th>2</th>\n",
       "      <td>cristiano</td>\n",
       "      <td>https://www.instagram.com/p/Bw4oZrMgA2k/</td>\n",
       "      <td>juventus</td>\n",
       "      <td>25700000</td>\n",
       "      <td>['TopTraining']</td>\n",
       "      <td>[19980]</td>\n",
       "      <td>4178957</td>\n",
       "      <td>18000</td>\n",
       "    </tr>\n",
       "    <tr>\n",
       "      <th>3</th>\n",
       "      <td>cristiano</td>\n",
       "      <td>https://www.instagram.com/p/BwzC96LggFK/</td>\n",
       "      <td>nikefootball</td>\n",
       "      <td>37600000</td>\n",
       "      <td>[]</td>\n",
       "      <td>[0]</td>\n",
       "      <td>6984193</td>\n",
       "      <td>45900</td>\n",
       "    </tr>\n",
       "    <tr>\n",
       "      <th>4</th>\n",
       "      <td>cristiano</td>\n",
       "      <td>https://www.instagram.com/p/BwumY9ZAY9K/</td>\n",
       "      <td>NaN</td>\n",
       "      <td>0</td>\n",
       "      <td>[]</td>\n",
       "      <td>[0]</td>\n",
       "      <td>3224458</td>\n",
       "      <td>13000</td>\n",
       "    </tr>\n",
       "    <tr>\n",
       "      <th>5</th>\n",
       "      <td>cristiano</td>\n",
       "      <td>https://www.instagram.com/p/Bwt33YNgXSu/</td>\n",
       "      <td>NaN</td>\n",
       "      <td>0</td>\n",
       "      <td>[]</td>\n",
       "      <td>[0]</td>\n",
       "      <td>8739073</td>\n",
       "      <td>54700</td>\n",
       "    </tr>\n",
       "    <tr>\n",
       "      <th>6</th>\n",
       "      <td>cristiano</td>\n",
       "      <td>https://www.instagram.com/p/Bwp15DWAsAA/</td>\n",
       "      <td>NaN</td>\n",
       "      <td>0</td>\n",
       "      <td>['CR7NikeMercurial']</td>\n",
       "      <td>[409]</td>\n",
       "      <td>5133205</td>\n",
       "      <td>20900</td>\n",
       "    </tr>\n",
       "    <tr>\n",
       "      <th>7</th>\n",
       "      <td>cristiano</td>\n",
       "      <td>https://www.instagram.com/p/BwpO70gALxz/</td>\n",
       "      <td>NaN</td>\n",
       "      <td>0</td>\n",
       "      <td>[]</td>\n",
       "      <td>[0]</td>\n",
       "      <td>6406600</td>\n",
       "      <td>68000</td>\n",
       "    </tr>\n",
       "    <tr>\n",
       "      <th>8</th>\n",
       "      <td>cristiano</td>\n",
       "      <td>https://www.instagram.com/p/BwmyBuclxzo/</td>\n",
       "      <td>NaN</td>\n",
       "      <td>0</td>\n",
       "      <td>['late']</td>\n",
       "      <td>[6144417]</td>\n",
       "      <td>10087891</td>\n",
       "      <td>81700</td>\n",
       "    </tr>\n",
       "    <tr>\n",
       "      <th>9</th>\n",
       "      <td>selenagomez</td>\n",
       "      <td>https://www.instagram.com/p/Bw9_ilQAOWM/</td>\n",
       "      <td>krahs</td>\n",
       "      <td>361000</td>\n",
       "      <td>['sdv']</td>\n",
       "      <td>[6229771]</td>\n",
       "      <td>11247342</td>\n",
       "      <td>143300</td>\n",
       "    </tr>\n",
       "    <tr>\n",
       "      <th>10</th>\n",
       "      <td>selenagomez</td>\n",
       "      <td>https://www.instagram.com/p/Bw7MF0yAnHZ/</td>\n",
       "      <td>oprah</td>\n",
       "      <td>16200000</td>\n",
       "      <td>['MJINNOCENT']</td>\n",
       "      <td>[105566]</td>\n",
       "      <td>3458224</td>\n",
       "      <td>21300</td>\n",
       "    </tr>\n",
       "    <tr>\n",
       "      <th>11</th>\n",
       "      <td>selenagomez</td>\n",
       "      <td>https://www.instagram.com/p/Bw2Q-cxANIV/</td>\n",
       "      <td>NaN</td>\n",
       "      <td>0</td>\n",
       "      <td>[]</td>\n",
       "      <td>[0]</td>\n",
       "      <td>5346193</td>\n",
       "      <td>24600</td>\n",
       "    </tr>\n",
       "    <tr>\n",
       "      <th>12</th>\n",
       "      <td>selenagomez</td>\n",
       "      <td>https://www.instagram.com/p/BwNMDqvAQ7_/</td>\n",
       "      <td>NaN</td>\n",
       "      <td>0</td>\n",
       "      <td>[]</td>\n",
       "      <td>[0]</td>\n",
       "      <td>6799432</td>\n",
       "      <td>69000</td>\n",
       "    </tr>\n",
       "    <tr>\n",
       "      <th>13</th>\n",
       "      <td>selenagomez</td>\n",
       "      <td>https://www.instagram.com/p/Bv4q6GPAeML/</td>\n",
       "      <td>NaN</td>\n",
       "      <td>0</td>\n",
       "      <td>[]</td>\n",
       "      <td>[0]</td>\n",
       "      <td>11830880</td>\n",
       "      <td>182700</td>\n",
       "    </tr>\n",
       "    <tr>\n",
       "      <th>14</th>\n",
       "      <td>selenagomez</td>\n",
       "      <td>https://www.instagram.com/p/BvpKdVmggr4/</td>\n",
       "      <td>coach</td>\n",
       "      <td>3800000</td>\n",
       "      <td>['CoachNY']</td>\n",
       "      <td>[73555]</td>\n",
       "      <td>4360732</td>\n",
       "      <td>44500</td>\n",
       "    </tr>\n",
       "    <tr>\n",
       "      <th>15</th>\n",
       "      <td>selenagomez</td>\n",
       "      <td>https://www.instagram.com/p/Bvkm1bkAfWv/</td>\n",
       "      <td>NaN</td>\n",
       "      <td>0</td>\n",
       "      <td>[]</td>\n",
       "      <td>[0]</td>\n",
       "      <td>5916849</td>\n",
       "      <td>73000</td>\n",
       "    </tr>\n",
       "    <tr>\n",
       "      <th>16</th>\n",
       "      <td>selenagomez</td>\n",
       "      <td>https://www.instagram.com/p/BvSAdFYAEau/</td>\n",
       "      <td>NaN</td>\n",
       "      <td>0</td>\n",
       "      <td>['CoachNY']</td>\n",
       "      <td>[73555]</td>\n",
       "      <td>6250777</td>\n",
       "      <td>82100</td>\n",
       "    </tr>\n",
       "    <tr>\n",
       "      <th>17</th>\n",
       "      <td>selenagomez</td>\n",
       "      <td>https://www.instagram.com/p/Bu6um0bg4c2/</td>\n",
       "      <td>jbalvin</td>\n",
       "      <td>28700000</td>\n",
       "      <td>[]</td>\n",
       "      <td>[0]</td>\n",
       "      <td>5736668</td>\n",
       "      <td>45900</td>\n",
       "    </tr>\n",
       "    <tr>\n",
       "      <th>18</th>\n",
       "      <td>kyliejenner</td>\n",
       "      <td>https://www.instagram.com/p/BxBtllKHlYk/</td>\n",
       "      <td>NaN</td>\n",
       "      <td>0</td>\n",
       "      <td>[]</td>\n",
       "      <td>[0]</td>\n",
       "      <td>4567396</td>\n",
       "      <td>48300</td>\n",
       "    </tr>\n",
       "    <tr>\n",
       "      <th>19</th>\n",
       "      <td>kyliejenner</td>\n",
       "      <td>https://www.instagram.com/p/BxBstglHLvy/</td>\n",
       "      <td>NaN</td>\n",
       "      <td>0</td>\n",
       "      <td>[]</td>\n",
       "      <td>[0]</td>\n",
       "      <td>4462150</td>\n",
       "      <td>17100</td>\n",
       "    </tr>\n",
       "    <tr>\n",
       "      <th>20</th>\n",
       "      <td>kyliejenner</td>\n",
       "      <td>https://www.instagram.com/p/BxBP9JAHFpH/</td>\n",
       "      <td>NaN</td>\n",
       "      <td>0</td>\n",
       "      <td>[]</td>\n",
       "      <td>[0]</td>\n",
       "      <td>4348534</td>\n",
       "      <td>18400</td>\n",
       "    </tr>\n",
       "    <tr>\n",
       "      <th>21</th>\n",
       "      <td>kyliejenner</td>\n",
       "      <td>https://www.instagram.com/p/Bw41A7EnDcB/</td>\n",
       "      <td>NaN</td>\n",
       "      <td>0</td>\n",
       "      <td>[]</td>\n",
       "      <td>[0]</td>\n",
       "      <td>13057022</td>\n",
       "      <td>200300</td>\n",
       "    </tr>\n",
       "    <tr>\n",
       "      <th>22</th>\n",
       "      <td>kyliejenner</td>\n",
       "      <td>https://www.instagram.com/p/Bw1-tOrHREG/</td>\n",
       "      <td>NaN</td>\n",
       "      <td>0</td>\n",
       "      <td>['Kybrow']</td>\n",
       "      <td>[1451]</td>\n",
       "      <td>2089484</td>\n",
       "      <td>72600</td>\n",
       "    </tr>\n",
       "    <tr>\n",
       "      <th>23</th>\n",
       "      <td>kyliejenner</td>\n",
       "      <td>https://www.instagram.com/p/Bwu-U-ynRkC/</td>\n",
       "      <td>kyliecosmetics</td>\n",
       "      <td>20300000</td>\n",
       "      <td>[]</td>\n",
       "      <td>[0]</td>\n",
       "      <td>1308303</td>\n",
       "      <td>157500</td>\n",
       "    </tr>\n",
       "    <tr>\n",
       "      <th>24</th>\n",
       "      <td>kyliejenner</td>\n",
       "      <td>https://www.instagram.com/p/Bwut_1Qnppo/</td>\n",
       "      <td>NaN</td>\n",
       "      <td>0</td>\n",
       "      <td>[]</td>\n",
       "      <td>[0]</td>\n",
       "      <td>1598116</td>\n",
       "      <td>22200</td>\n",
       "    </tr>\n",
       "    <tr>\n",
       "      <th>25</th>\n",
       "      <td>kyliejenner</td>\n",
       "      <td>https://www.instagram.com/p/BwtMv6WnDqc/</td>\n",
       "      <td>NaN</td>\n",
       "      <td>0</td>\n",
       "      <td>[]</td>\n",
       "      <td>[0]</td>\n",
       "      <td>9479898</td>\n",
       "      <td>67600</td>\n",
       "    </tr>\n",
       "    <tr>\n",
       "      <th>26</th>\n",
       "      <td>kyliejenner</td>\n",
       "      <td>https://www.instagram.com/p/BwtLmnnHArw/</td>\n",
       "      <td>NaN</td>\n",
       "      <td>0</td>\n",
       "      <td>[]</td>\n",
       "      <td>[0]</td>\n",
       "      <td>13573980</td>\n",
       "      <td>80700</td>\n",
       "    </tr>\n",
       "    <tr>\n",
       "      <th>27</th>\n",
       "      <td>kyliejenner</td>\n",
       "      <td>https://www.instagram.com/p/BwsHFurnAPO/</td>\n",
       "      <td>NaN</td>\n",
       "      <td>0</td>\n",
       "      <td>[]</td>\n",
       "      <td>[0]</td>\n",
       "      <td>2617348</td>\n",
       "      <td>33300</td>\n",
       "    </tr>\n",
       "    <tr>\n",
       "      <th>28</th>\n",
       "      <td>kyliejenner</td>\n",
       "      <td>https://www.instagram.com/p/BwpaDnpnXnK/</td>\n",
       "      <td>cesar4styles</td>\n",
       "      <td>306000</td>\n",
       "      <td>['Kybrow', 'suziecosmetic']</td>\n",
       "      <td>[1451, 1]</td>\n",
       "      <td>3422830</td>\n",
       "      <td>69500</td>\n",
       "    </tr>\n",
       "    <tr>\n",
       "      <th>29</th>\n",
       "      <td>leomessi</td>\n",
       "      <td>https://www.instagram.com/p/BxFc58nFwpN/</td>\n",
       "      <td>NaN</td>\n",
       "      <td>0</td>\n",
       "      <td>[]</td>\n",
       "      <td>[0]</td>\n",
       "      <td>7386121</td>\n",
       "      <td>38200</td>\n",
       "    </tr>\n",
       "    <tr>\n",
       "      <th>...</th>\n",
       "      <td>...</td>\n",
       "      <td>...</td>\n",
       "      <td>...</td>\n",
       "      <td>...</td>\n",
       "      <td>...</td>\n",
       "      <td>...</td>\n",
       "      <td>...</td>\n",
       "      <td>...</td>\n",
       "    </tr>\n",
       "    <tr>\n",
       "      <th>396</th>\n",
       "      <td>vindiesel</td>\n",
       "      <td>https://www.instagram.com/p/BxIYWfjnBPt/</td>\n",
       "      <td>NaN</td>\n",
       "      <td>0</td>\n",
       "      <td>['Goal', 'patience']</td>\n",
       "      <td>[[0], [0]]</td>\n",
       "      <td>301440</td>\n",
       "      <td>28500</td>\n",
       "    </tr>\n",
       "    <tr>\n",
       "      <th>397</th>\n",
       "      <td>vindiesel</td>\n",
       "      <td>https://www.instagram.com/p/Bw8XpT2H1Qv/</td>\n",
       "      <td>NaN</td>\n",
       "      <td>0</td>\n",
       "      <td>['Toretto']</td>\n",
       "      <td>[[0]]</td>\n",
       "      <td>684902</td>\n",
       "      <td>949</td>\n",
       "    </tr>\n",
       "    <tr>\n",
       "      <th>398</th>\n",
       "      <td>vindiesel</td>\n",
       "      <td>https://www.instagram.com/p/Bw8Ua0cHx0i/</td>\n",
       "      <td>NaN</td>\n",
       "      <td>0</td>\n",
       "      <td>[]</td>\n",
       "      <td>[0]</td>\n",
       "      <td>343435</td>\n",
       "      <td>50300</td>\n",
       "    </tr>\n",
       "    <tr>\n",
       "      <th>399</th>\n",
       "      <td>vindiesel</td>\n",
       "      <td>https://www.instagram.com/p/Bw50lYLnBqd/</td>\n",
       "      <td>NaN</td>\n",
       "      <td>0</td>\n",
       "      <td>['Fast9']</td>\n",
       "      <td>[[0]]</td>\n",
       "      <td>814013</td>\n",
       "      <td>21900</td>\n",
       "    </tr>\n",
       "    <tr>\n",
       "      <th>400</th>\n",
       "      <td>vindiesel</td>\n",
       "      <td>https://www.instagram.com/p/Bw5NS9cnpVs/</td>\n",
       "      <td>NaN</td>\n",
       "      <td>0</td>\n",
       "      <td>[]</td>\n",
       "      <td>[0]</td>\n",
       "      <td>712137</td>\n",
       "      <td>114800</td>\n",
       "    </tr>\n",
       "    <tr>\n",
       "      <th>401</th>\n",
       "      <td>vindiesel</td>\n",
       "      <td>https://www.instagram.com/p/Bw3I5XGHf27/</td>\n",
       "      <td>NaN</td>\n",
       "      <td>0</td>\n",
       "      <td>[]</td>\n",
       "      <td>[0]</td>\n",
       "      <td>267176</td>\n",
       "      <td>602</td>\n",
       "    </tr>\n",
       "    <tr>\n",
       "      <th>402</th>\n",
       "      <td>vindiesel</td>\n",
       "      <td>https://www.instagram.com/p/BwvF5S5HCNn/</td>\n",
       "      <td>NaN</td>\n",
       "      <td>0</td>\n",
       "      <td>[]</td>\n",
       "      <td>[0]</td>\n",
       "      <td>1504969</td>\n",
       "      <td>824</td>\n",
       "    </tr>\n",
       "    <tr>\n",
       "      <th>403</th>\n",
       "      <td>vindiesel</td>\n",
       "      <td>https://www.instagram.com/p/BwuqJUbnXPP/</td>\n",
       "      <td>NaN</td>\n",
       "      <td>0</td>\n",
       "      <td>['whateverittakes', 'Yosoybernard']</td>\n",
       "      <td>[1394092, 21]</td>\n",
       "      <td>1140407</td>\n",
       "      <td>606</td>\n",
       "    </tr>\n",
       "    <tr>\n",
       "      <th>404</th>\n",
       "      <td>zendaya</td>\n",
       "      <td>https://www.instagram.com/p/BxID0u9Fv82/</td>\n",
       "      <td>NaN</td>\n",
       "      <td>0</td>\n",
       "      <td>['SpiderManFarFromHome']</td>\n",
       "      <td>[568867]</td>\n",
       "      <td>1618330</td>\n",
       "      <td>43</td>\n",
       "    </tr>\n",
       "    <tr>\n",
       "      <th>405</th>\n",
       "      <td>zendaya</td>\n",
       "      <td>https://www.instagram.com/p/BwDJwkXFigR/</td>\n",
       "      <td>NaN</td>\n",
       "      <td>0</td>\n",
       "      <td>['TommyxZendaya']</td>\n",
       "      <td>[13549]</td>\n",
       "      <td>2584720</td>\n",
       "      <td>979</td>\n",
       "    </tr>\n",
       "    <tr>\n",
       "      <th>406</th>\n",
       "      <td>zendaya</td>\n",
       "      <td>https://www.instagram.com/p/Bu_8F0JFgvr/</td>\n",
       "      <td>NaN</td>\n",
       "      <td>0</td>\n",
       "      <td>[]</td>\n",
       "      <td>[0]</td>\n",
       "      <td>5958301</td>\n",
       "      <td>372</td>\n",
       "    </tr>\n",
       "    <tr>\n",
       "      <th>407</th>\n",
       "      <td>zendaya</td>\n",
       "      <td>https://www.instagram.com/p/BuwdbHmlCNR/</td>\n",
       "      <td>tommyhilfiger</td>\n",
       "      <td>11200000</td>\n",
       "      <td>['TommyxZendaya']</td>\n",
       "      <td>[13549]</td>\n",
       "      <td>2279900</td>\n",
       "      <td>886</td>\n",
       "    </tr>\n",
       "    <tr>\n",
       "      <th>408</th>\n",
       "      <td>zendaya</td>\n",
       "      <td>https://www.instagram.com/p/BunA45dloq1/</td>\n",
       "      <td>NaN</td>\n",
       "      <td>0</td>\n",
       "      <td>[]</td>\n",
       "      <td>[0]</td>\n",
       "      <td>578846</td>\n",
       "      <td>19100</td>\n",
       "    </tr>\n",
       "    <tr>\n",
       "      <th>409</th>\n",
       "      <td>zendaya</td>\n",
       "      <td>https://www.instagram.com/p/BulNNBEl3fj/</td>\n",
       "      <td>NaN</td>\n",
       "      <td>0</td>\n",
       "      <td>[]</td>\n",
       "      <td>[0]</td>\n",
       "      <td>589862</td>\n",
       "      <td>10000</td>\n",
       "    </tr>\n",
       "    <tr>\n",
       "      <th>410</th>\n",
       "      <td>zendaya</td>\n",
       "      <td>https://www.instagram.com/p/BulLjp8FldX/</td>\n",
       "      <td>NaN</td>\n",
       "      <td>0</td>\n",
       "      <td>[]</td>\n",
       "      <td>[0]</td>\n",
       "      <td>740012</td>\n",
       "      <td>420</td>\n",
       "    </tr>\n",
       "    <tr>\n",
       "      <th>411</th>\n",
       "      <td>zendaya</td>\n",
       "      <td>https://www.instagram.com/p/BukN-JxFIY9/</td>\n",
       "      <td>NaN</td>\n",
       "      <td>0</td>\n",
       "      <td>['TommyxZendaya']</td>\n",
       "      <td>[13549]</td>\n",
       "      <td>2094540</td>\n",
       "      <td>468</td>\n",
       "    </tr>\n",
       "    <tr>\n",
       "      <th>412</th>\n",
       "      <td>zendaya</td>\n",
       "      <td>https://www.instagram.com/p/BujpWBIFulY/</td>\n",
       "      <td>NaN</td>\n",
       "      <td>0</td>\n",
       "      <td>[]</td>\n",
       "      <td>[0]</td>\n",
       "      <td>703203</td>\n",
       "      <td>311</td>\n",
       "    </tr>\n",
       "    <tr>\n",
       "      <th>413</th>\n",
       "      <td>jamescharles</td>\n",
       "      <td>https://www.instagram.com/p/BxA9lbWgQX-/</td>\n",
       "      <td>bodyelectrictattoo</td>\n",
       "      <td>95700</td>\n",
       "      <td>[]</td>\n",
       "      <td>[0]</td>\n",
       "      <td>1913679</td>\n",
       "      <td>740</td>\n",
       "    </tr>\n",
       "    <tr>\n",
       "      <th>414</th>\n",
       "      <td>jamescharles</td>\n",
       "      <td>https://www.instagram.com/p/Bw9003eH9hJ/</td>\n",
       "      <td>nbc</td>\n",
       "      <td>535000</td>\n",
       "      <td>[]</td>\n",
       "      <td>[0]</td>\n",
       "      <td>1997681</td>\n",
       "      <td>333</td>\n",
       "    </tr>\n",
       "    <tr>\n",
       "      <th>415</th>\n",
       "      <td>jamescharles</td>\n",
       "      <td>https://www.instagram.com/p/Bw5yUXeg8LT/</td>\n",
       "      <td>NaN</td>\n",
       "      <td>0</td>\n",
       "      <td>[]</td>\n",
       "      <td>[0]</td>\n",
       "      <td>2598078</td>\n",
       "      <td>16000</td>\n",
       "    </tr>\n",
       "    <tr>\n",
       "      <th>416</th>\n",
       "      <td>jamescharles</td>\n",
       "      <td>https://www.instagram.com/p/BwhqB4EAWRR/</td>\n",
       "      <td>louisvuitton</td>\n",
       "      <td>31600000</td>\n",
       "      <td>[]</td>\n",
       "      <td>[0]</td>\n",
       "      <td>2179123</td>\n",
       "      <td>237</td>\n",
       "    </tr>\n",
       "    <tr>\n",
       "      <th>417</th>\n",
       "      <td>jamescharles</td>\n",
       "      <td>https://www.instagram.com/p/Bwf-yzvgv5g/</td>\n",
       "      <td>NaN</td>\n",
       "      <td>0</td>\n",
       "      <td>[]</td>\n",
       "      <td>[0]</td>\n",
       "      <td>3649758</td>\n",
       "      <td>788</td>\n",
       "    </tr>\n",
       "    <tr>\n",
       "      <th>418</th>\n",
       "      <td>jamescharles</td>\n",
       "      <td>https://www.instagram.com/p/BwdZVBHg0xA/</td>\n",
       "      <td>nikita_dragun</td>\n",
       "      <td>4500000</td>\n",
       "      <td>[]</td>\n",
       "      <td>[0]</td>\n",
       "      <td>2544848</td>\n",
       "      <td>12200</td>\n",
       "    </tr>\n",
       "    <tr>\n",
       "      <th>419</th>\n",
       "      <td>jamescharles</td>\n",
       "      <td>https://www.instagram.com/p/BwVlyKpgZ2W/</td>\n",
       "      <td>balenciaga</td>\n",
       "      <td>9500000</td>\n",
       "      <td>[]</td>\n",
       "      <td>[0]</td>\n",
       "      <td>3001766</td>\n",
       "      <td>17600</td>\n",
       "    </tr>\n",
       "    <tr>\n",
       "      <th>420</th>\n",
       "      <td>jamescharles</td>\n",
       "      <td>https://www.instagram.com/p/BwSWCtbgxZ4/</td>\n",
       "      <td>lauramellado</td>\n",
       "      <td>451000</td>\n",
       "      <td>['SISTERSQUAD']</td>\n",
       "      <td>[1014067]</td>\n",
       "      <td>2445660</td>\n",
       "      <td>504</td>\n",
       "    </tr>\n",
       "    <tr>\n",
       "      <th>421</th>\n",
       "      <td>jamescharles</td>\n",
       "      <td>https://www.instagram.com/p/BwQluhfgmtf/</td>\n",
       "      <td>NaN</td>\n",
       "      <td>0</td>\n",
       "      <td>[]</td>\n",
       "      <td>[0]</td>\n",
       "      <td>3536326</td>\n",
       "      <td>19351</td>\n",
       "    </tr>\n",
       "    <tr>\n",
       "      <th>422</th>\n",
       "      <td>jamescharles</td>\n",
       "      <td>https://www.instagram.com/p/BwPjF-SAi_8/</td>\n",
       "      <td>morphebrushes</td>\n",
       "      <td>9600000</td>\n",
       "      <td>[]</td>\n",
       "      <td>[0]</td>\n",
       "      <td>3155364</td>\n",
       "      <td>19351</td>\n",
       "    </tr>\n",
       "    <tr>\n",
       "      <th>423</th>\n",
       "      <td>jamescharles</td>\n",
       "      <td>https://www.instagram.com/p/BwN-k_ogrxT/</td>\n",
       "      <td>pabllovittar</td>\n",
       "      <td>8400000</td>\n",
       "      <td>[]</td>\n",
       "      <td>[0]</td>\n",
       "      <td>4016510</td>\n",
       "      <td>19351</td>\n",
       "    </tr>\n",
       "    <tr>\n",
       "      <th>424</th>\n",
       "      <td>maluma</td>\n",
       "      <td>https://www.instagram.com/p/BxICtdCn5vr/</td>\n",
       "      <td>NaN</td>\n",
       "      <td>0</td>\n",
       "      <td>['MetGala', 'drkaramdentalstudio', 'MetGala', ...</td>\n",
       "      <td>[1048268, 23, 1048276, 1048279]</td>\n",
       "      <td>192578</td>\n",
       "      <td>19351</td>\n",
       "    </tr>\n",
       "    <tr>\n",
       "      <th>425</th>\n",
       "      <td>maluma</td>\n",
       "      <td>https://www.instagram.com/p/BxDojtQnpQi/</td>\n",
       "      <td>NaN</td>\n",
       "      <td>0</td>\n",
       "      <td>['MalumaBaby']</td>\n",
       "      <td>[221753]</td>\n",
       "      <td>792271</td>\n",
       "      <td>19351</td>\n",
       "    </tr>\n",
       "  </tbody>\n",
       "</table>\n",
       "<p>426 rows × 8 columns</p>\n",
       "</div>"
      ],
      "text/plain": [
       "        posted by                                  post url  \\\n",
       "0       cristiano  https://www.instagram.com/p/BxBCZkZg39M/   \n",
       "1       cristiano  https://www.instagram.com/p/Bw5BLO8gj3h/   \n",
       "2       cristiano  https://www.instagram.com/p/Bw4oZrMgA2k/   \n",
       "3       cristiano  https://www.instagram.com/p/BwzC96LggFK/   \n",
       "4       cristiano  https://www.instagram.com/p/BwumY9ZAY9K/   \n",
       "5       cristiano  https://www.instagram.com/p/Bwt33YNgXSu/   \n",
       "6       cristiano  https://www.instagram.com/p/Bwp15DWAsAA/   \n",
       "7       cristiano  https://www.instagram.com/p/BwpO70gALxz/   \n",
       "8       cristiano  https://www.instagram.com/p/BwmyBuclxzo/   \n",
       "9     selenagomez  https://www.instagram.com/p/Bw9_ilQAOWM/   \n",
       "10    selenagomez  https://www.instagram.com/p/Bw7MF0yAnHZ/   \n",
       "11    selenagomez  https://www.instagram.com/p/Bw2Q-cxANIV/   \n",
       "12    selenagomez  https://www.instagram.com/p/BwNMDqvAQ7_/   \n",
       "13    selenagomez  https://www.instagram.com/p/Bv4q6GPAeML/   \n",
       "14    selenagomez  https://www.instagram.com/p/BvpKdVmggr4/   \n",
       "15    selenagomez  https://www.instagram.com/p/Bvkm1bkAfWv/   \n",
       "16    selenagomez  https://www.instagram.com/p/BvSAdFYAEau/   \n",
       "17    selenagomez  https://www.instagram.com/p/Bu6um0bg4c2/   \n",
       "18    kyliejenner  https://www.instagram.com/p/BxBtllKHlYk/   \n",
       "19    kyliejenner  https://www.instagram.com/p/BxBstglHLvy/   \n",
       "20    kyliejenner  https://www.instagram.com/p/BxBP9JAHFpH/   \n",
       "21    kyliejenner  https://www.instagram.com/p/Bw41A7EnDcB/   \n",
       "22    kyliejenner  https://www.instagram.com/p/Bw1-tOrHREG/   \n",
       "23    kyliejenner  https://www.instagram.com/p/Bwu-U-ynRkC/   \n",
       "24    kyliejenner  https://www.instagram.com/p/Bwut_1Qnppo/   \n",
       "25    kyliejenner  https://www.instagram.com/p/BwtMv6WnDqc/   \n",
       "26    kyliejenner  https://www.instagram.com/p/BwtLmnnHArw/   \n",
       "27    kyliejenner  https://www.instagram.com/p/BwsHFurnAPO/   \n",
       "28    kyliejenner  https://www.instagram.com/p/BwpaDnpnXnK/   \n",
       "29       leomessi  https://www.instagram.com/p/BxFc58nFwpN/   \n",
       "..            ...                                       ...   \n",
       "396     vindiesel  https://www.instagram.com/p/BxIYWfjnBPt/   \n",
       "397     vindiesel  https://www.instagram.com/p/Bw8XpT2H1Qv/   \n",
       "398     vindiesel  https://www.instagram.com/p/Bw8Ua0cHx0i/   \n",
       "399     vindiesel  https://www.instagram.com/p/Bw50lYLnBqd/   \n",
       "400     vindiesel  https://www.instagram.com/p/Bw5NS9cnpVs/   \n",
       "401     vindiesel  https://www.instagram.com/p/Bw3I5XGHf27/   \n",
       "402     vindiesel  https://www.instagram.com/p/BwvF5S5HCNn/   \n",
       "403     vindiesel  https://www.instagram.com/p/BwuqJUbnXPP/   \n",
       "404       zendaya  https://www.instagram.com/p/BxID0u9Fv82/   \n",
       "405       zendaya  https://www.instagram.com/p/BwDJwkXFigR/   \n",
       "406       zendaya  https://www.instagram.com/p/Bu_8F0JFgvr/   \n",
       "407       zendaya  https://www.instagram.com/p/BuwdbHmlCNR/   \n",
       "408       zendaya  https://www.instagram.com/p/BunA45dloq1/   \n",
       "409       zendaya  https://www.instagram.com/p/BulNNBEl3fj/   \n",
       "410       zendaya  https://www.instagram.com/p/BulLjp8FldX/   \n",
       "411       zendaya  https://www.instagram.com/p/BukN-JxFIY9/   \n",
       "412       zendaya  https://www.instagram.com/p/BujpWBIFulY/   \n",
       "413  jamescharles  https://www.instagram.com/p/BxA9lbWgQX-/   \n",
       "414  jamescharles  https://www.instagram.com/p/Bw9003eH9hJ/   \n",
       "415  jamescharles  https://www.instagram.com/p/Bw5yUXeg8LT/   \n",
       "416  jamescharles  https://www.instagram.com/p/BwhqB4EAWRR/   \n",
       "417  jamescharles  https://www.instagram.com/p/Bwf-yzvgv5g/   \n",
       "418  jamescharles  https://www.instagram.com/p/BwdZVBHg0xA/   \n",
       "419  jamescharles  https://www.instagram.com/p/BwVlyKpgZ2W/   \n",
       "420  jamescharles  https://www.instagram.com/p/BwSWCtbgxZ4/   \n",
       "421  jamescharles  https://www.instagram.com/p/BwQluhfgmtf/   \n",
       "422  jamescharles  https://www.instagram.com/p/BwPjF-SAi_8/   \n",
       "423  jamescharles  https://www.instagram.com/p/BwN-k_ogrxT/   \n",
       "424        maluma  https://www.instagram.com/p/BxICtdCn5vr/   \n",
       "425        maluma  https://www.instagram.com/p/BxDojtQnpQi/   \n",
       "\n",
       "           tagges users  tagged users followers  \\\n",
       "0                   NaN                       0   \n",
       "1          cr7_footwear                 1100000   \n",
       "2              juventus                25700000   \n",
       "3          nikefootball                37600000   \n",
       "4                   NaN                       0   \n",
       "5                   NaN                       0   \n",
       "6                   NaN                       0   \n",
       "7                   NaN                       0   \n",
       "8                   NaN                       0   \n",
       "9                 krahs                  361000   \n",
       "10                oprah                16200000   \n",
       "11                  NaN                       0   \n",
       "12                  NaN                       0   \n",
       "13                  NaN                       0   \n",
       "14                coach                 3800000   \n",
       "15                  NaN                       0   \n",
       "16                  NaN                       0   \n",
       "17              jbalvin                28700000   \n",
       "18                  NaN                       0   \n",
       "19                  NaN                       0   \n",
       "20                  NaN                       0   \n",
       "21                  NaN                       0   \n",
       "22                  NaN                       0   \n",
       "23       kyliecosmetics                20300000   \n",
       "24                  NaN                       0   \n",
       "25                  NaN                       0   \n",
       "26                  NaN                       0   \n",
       "27                  NaN                       0   \n",
       "28         cesar4styles                  306000   \n",
       "29                  NaN                       0   \n",
       "..                  ...                     ...   \n",
       "396                 NaN                       0   \n",
       "397                 NaN                       0   \n",
       "398                 NaN                       0   \n",
       "399                 NaN                       0   \n",
       "400                 NaN                       0   \n",
       "401                 NaN                       0   \n",
       "402                 NaN                       0   \n",
       "403                 NaN                       0   \n",
       "404                 NaN                       0   \n",
       "405                 NaN                       0   \n",
       "406                 NaN                       0   \n",
       "407       tommyhilfiger                11200000   \n",
       "408                 NaN                       0   \n",
       "409                 NaN                       0   \n",
       "410                 NaN                       0   \n",
       "411                 NaN                       0   \n",
       "412                 NaN                       0   \n",
       "413  bodyelectrictattoo                   95700   \n",
       "414                 nbc                  535000   \n",
       "415                 NaN                       0   \n",
       "416        louisvuitton                31600000   \n",
       "417                 NaN                       0   \n",
       "418       nikita_dragun                 4500000   \n",
       "419          balenciaga                 9500000   \n",
       "420        lauramellado                  451000   \n",
       "421                 NaN                       0   \n",
       "422       morphebrushes                 9600000   \n",
       "423        pabllovittar                 8400000   \n",
       "424                 NaN                       0   \n",
       "425                 NaN                       0   \n",
       "\n",
       "                                                  tags  \\\n",
       "0                                     ['finoallafine']   \n",
       "1                                          ['ayemose']   \n",
       "2                                      ['TopTraining']   \n",
       "3                                                   []   \n",
       "4                                                   []   \n",
       "5                                                   []   \n",
       "6                                 ['CR7NikeMercurial']   \n",
       "7                                                   []   \n",
       "8                                             ['late']   \n",
       "9                                              ['sdv']   \n",
       "10                                      ['MJINNOCENT']   \n",
       "11                                                  []   \n",
       "12                                                  []   \n",
       "13                                                  []   \n",
       "14                                         ['CoachNY']   \n",
       "15                                                  []   \n",
       "16                                         ['CoachNY']   \n",
       "17                                                  []   \n",
       "18                                                  []   \n",
       "19                                                  []   \n",
       "20                                                  []   \n",
       "21                                                  []   \n",
       "22                                          ['Kybrow']   \n",
       "23                                                  []   \n",
       "24                                                  []   \n",
       "25                                                  []   \n",
       "26                                                  []   \n",
       "27                                                  []   \n",
       "28                         ['Kybrow', 'suziecosmetic']   \n",
       "29                                                  []   \n",
       "..                                                 ...   \n",
       "396                               ['Goal', 'patience']   \n",
       "397                                        ['Toretto']   \n",
       "398                                                 []   \n",
       "399                                          ['Fast9']   \n",
       "400                                                 []   \n",
       "401                                                 []   \n",
       "402                                                 []   \n",
       "403                ['whateverittakes', 'Yosoybernard']   \n",
       "404                           ['SpiderManFarFromHome']   \n",
       "405                                  ['TommyxZendaya']   \n",
       "406                                                 []   \n",
       "407                                  ['TommyxZendaya']   \n",
       "408                                                 []   \n",
       "409                                                 []   \n",
       "410                                                 []   \n",
       "411                                  ['TommyxZendaya']   \n",
       "412                                                 []   \n",
       "413                                                 []   \n",
       "414                                                 []   \n",
       "415                                                 []   \n",
       "416                                                 []   \n",
       "417                                                 []   \n",
       "418                                                 []   \n",
       "419                                                 []   \n",
       "420                                    ['SISTERSQUAD']   \n",
       "421                                                 []   \n",
       "422                                                 []   \n",
       "423                                                 []   \n",
       "424  ['MetGala', 'drkaramdentalstudio', 'MetGala', ...   \n",
       "425                                     ['MalumaBaby']   \n",
       "\n",
       "                     tag post totals     likes  comments  \n",
       "0                          [2029020]   4483294     26800  \n",
       "1                              [131]   3708111     29000  \n",
       "2                            [19980]   4178957     18000  \n",
       "3                                [0]   6984193     45900  \n",
       "4                                [0]   3224458     13000  \n",
       "5                                [0]   8739073     54700  \n",
       "6                              [409]   5133205     20900  \n",
       "7                                [0]   6406600     68000  \n",
       "8                          [6144417]  10087891     81700  \n",
       "9                          [6229771]  11247342    143300  \n",
       "10                          [105566]   3458224     21300  \n",
       "11                               [0]   5346193     24600  \n",
       "12                               [0]   6799432     69000  \n",
       "13                               [0]  11830880    182700  \n",
       "14                           [73555]   4360732     44500  \n",
       "15                               [0]   5916849     73000  \n",
       "16                           [73555]   6250777     82100  \n",
       "17                               [0]   5736668     45900  \n",
       "18                               [0]   4567396     48300  \n",
       "19                               [0]   4462150     17100  \n",
       "20                               [0]   4348534     18400  \n",
       "21                               [0]  13057022    200300  \n",
       "22                            [1451]   2089484     72600  \n",
       "23                               [0]   1308303    157500  \n",
       "24                               [0]   1598116     22200  \n",
       "25                               [0]   9479898     67600  \n",
       "26                               [0]  13573980     80700  \n",
       "27                               [0]   2617348     33300  \n",
       "28                         [1451, 1]   3422830     69500  \n",
       "29                               [0]   7386121     38200  \n",
       "..                               ...       ...       ...  \n",
       "396                       [[0], [0]]    301440     28500  \n",
       "397                            [[0]]    684902       949  \n",
       "398                              [0]    343435     50300  \n",
       "399                            [[0]]    814013     21900  \n",
       "400                              [0]    712137    114800  \n",
       "401                              [0]    267176       602  \n",
       "402                              [0]   1504969       824  \n",
       "403                    [1394092, 21]   1140407       606  \n",
       "404                         [568867]   1618330        43  \n",
       "405                          [13549]   2584720       979  \n",
       "406                              [0]   5958301       372  \n",
       "407                          [13549]   2279900       886  \n",
       "408                              [0]    578846     19100  \n",
       "409                              [0]    589862     10000  \n",
       "410                              [0]    740012       420  \n",
       "411                          [13549]   2094540       468  \n",
       "412                              [0]    703203       311  \n",
       "413                              [0]   1913679       740  \n",
       "414                              [0]   1997681       333  \n",
       "415                              [0]   2598078     16000  \n",
       "416                              [0]   2179123       237  \n",
       "417                              [0]   3649758       788  \n",
       "418                              [0]   2544848     12200  \n",
       "419                              [0]   3001766     17600  \n",
       "420                        [1014067]   2445660       504  \n",
       "421                              [0]   3536326     19351  \n",
       "422                              [0]   3155364     19351  \n",
       "423                              [0]   4016510     19351  \n",
       "424  [1048268, 23, 1048276, 1048279]    192578     19351  \n",
       "425                         [221753]    792271     19351  \n",
       "\n",
       "[426 rows x 8 columns]"
      ]
     },
     "execution_count": 86,
     "metadata": {},
     "output_type": "execute_result"
    }
   ],
   "source": [
    "data.head(-1)"
   ]
  },
  {
   "cell_type": "markdown",
   "metadata": {},
   "source": [
    "As you can see above, for the ~20 posts, the tag collection count code did not work correctly because after enough requests to the Instagram website by the data collection code, we got an error page and the website would temporarily block us from accessing it (the code to collect tag posts counts is the last of the code that accesses the Instagram site to run). Additionally, for the last ~20 posts, the comments and likes code did not work properly, so, in the data collection code, we assigned those posts the average number of comments and likes for all other posts."
   ]
  },
  {
   "cell_type": "markdown",
   "metadata": {},
   "source": [
    "# __________________________________________________________________________\n",
    "## Load the dataset about Instagram users\n",
    "Which includes followers usernames and follower counts"
   ]
  },
  {
   "cell_type": "code",
   "execution_count": 87,
   "metadata": {},
   "outputs": [
    {
     "data": {
      "text/html": [
       "<div>\n",
       "<style scoped>\n",
       "    .dataframe tbody tr th:only-of-type {\n",
       "        vertical-align: middle;\n",
       "    }\n",
       "\n",
       "    .dataframe tbody tr th {\n",
       "        vertical-align: top;\n",
       "    }\n",
       "\n",
       "    .dataframe thead th {\n",
       "        text-align: right;\n",
       "    }\n",
       "</style>\n",
       "<table border=\"1\" class=\"dataframe\">\n",
       "  <thead>\n",
       "    <tr style=\"text-align: right;\">\n",
       "      <th></th>\n",
       "      <th>username</th>\n",
       "      <th>followers</th>\n",
       "    </tr>\n",
       "  </thead>\n",
       "  <tbody>\n",
       "    <tr>\n",
       "      <th>0</th>\n",
       "      <td>cristiano</td>\n",
       "      <td>165000000</td>\n",
       "    </tr>\n",
       "    <tr>\n",
       "      <th>1</th>\n",
       "      <td>selenagomez</td>\n",
       "      <td>149000000</td>\n",
       "    </tr>\n",
       "    <tr>\n",
       "      <th>2</th>\n",
       "      <td>kyliejenner</td>\n",
       "      <td>134000000</td>\n",
       "    </tr>\n",
       "    <tr>\n",
       "      <th>3</th>\n",
       "      <td>leomessi</td>\n",
       "      <td>117000000</td>\n",
       "    </tr>\n",
       "    <tr>\n",
       "      <th>4</th>\n",
       "      <td>arianagrande</td>\n",
       "      <td>153000000</td>\n",
       "    </tr>\n",
       "  </tbody>\n",
       "</table>\n",
       "</div>"
      ],
      "text/plain": [
       "       username  followers\n",
       "0     cristiano  165000000\n",
       "1   selenagomez  149000000\n",
       "2   kyliejenner  134000000\n",
       "3      leomessi  117000000\n",
       "4  arianagrande  153000000"
      ]
     },
     "execution_count": 87,
     "metadata": {},
     "output_type": "execute_result"
    }
   ],
   "source": [
    "user_data = pandas.read_csv(\"user_data.csv\")\n",
    "\n",
    "for i, rows in user_data.iterrows():\n",
    "    if(\".\" in user_data.at[i,'followers'] ):\n",
    "        index = user_data.at[i,'followers'].find(\".\")\n",
    "        integer = int(user_data.at[i,'followers'][0:index] + user_data.at[i,'followers'][index+1:len(user_data.at[i,'followers'])-1] + \"00000\")\n",
    "    else:\n",
    "        integer = int(user_data.at[i,'followers'][:-1] + \"000000\")\n",
    "    user_data.at[i,'followers'] = integer\n",
    "        \n",
    "user_data.head(5)"
   ]
  },
  {
   "cell_type": "markdown",
   "metadata": {},
   "source": [
    "# __________________________________________________________________________\n",
    "## Load the dataset from the internet about top 50 Instagram users\n",
    "It is actually not the top 50, but 50 popular users. This data was used in the data collection code but not in the data analysis code"
   ]
  },
  {
   "cell_type": "code",
   "execution_count": 88,
   "metadata": {},
   "outputs": [
    {
     "data": {
      "text/html": [
       "<div>\n",
       "<style scoped>\n",
       "    .dataframe tbody tr th:only-of-type {\n",
       "        vertical-align: middle;\n",
       "    }\n",
       "\n",
       "    .dataframe tbody tr th {\n",
       "        vertical-align: top;\n",
       "    }\n",
       "\n",
       "    .dataframe thead th {\n",
       "        text-align: right;\n",
       "    }\n",
       "</style>\n",
       "<table border=\"1\" class=\"dataframe\">\n",
       "  <thead>\n",
       "    <tr style=\"text-align: right;\">\n",
       "      <th></th>\n",
       "      <th>@cristiano</th>\n",
       "    </tr>\n",
       "  </thead>\n",
       "  <tbody>\n",
       "    <tr>\n",
       "      <th>0</th>\n",
       "      <td>@selenagomez</td>\n",
       "    </tr>\n",
       "    <tr>\n",
       "      <th>1</th>\n",
       "      <td>@kyliejenner</td>\n",
       "    </tr>\n",
       "    <tr>\n",
       "      <th>2</th>\n",
       "      <td>@leomessi</td>\n",
       "    </tr>\n",
       "    <tr>\n",
       "      <th>3</th>\n",
       "      <td>@beyonce</td>\n",
       "    </tr>\n",
       "    <tr>\n",
       "      <th>4</th>\n",
       "      <td>@kendalljenner</td>\n",
       "    </tr>\n",
       "  </tbody>\n",
       "</table>\n",
       "</div>"
      ],
      "text/plain": [
       "       @cristiano\n",
       "0    @selenagomez\n",
       "1    @kyliejenner\n",
       "2       @leomessi\n",
       "3        @beyonce\n",
       "4  @kendalljenner"
      ]
     },
     "execution_count": 88,
     "metadata": {},
     "output_type": "execute_result"
    }
   ],
   "source": [
    "top_50 = pandas.read_csv(\"top_50_ig_users.csv\")\n",
    "top_50.head(5)"
   ]
  },
  {
   "cell_type": "markdown",
   "metadata": {},
   "source": [
    "# __________________________________________________________________________\n",
    "## Histograms of variables"
   ]
  },
  {
   "cell_type": "code",
   "execution_count": 89,
   "metadata": {},
   "outputs": [
    {
     "data": {
      "text/html": [
       "<div>\n",
       "<style scoped>\n",
       "    .dataframe tbody tr th:only-of-type {\n",
       "        vertical-align: middle;\n",
       "    }\n",
       "\n",
       "    .dataframe tbody tr th {\n",
       "        vertical-align: top;\n",
       "    }\n",
       "\n",
       "    .dataframe thead th {\n",
       "        text-align: right;\n",
       "    }\n",
       "</style>\n",
       "<table border=\"1\" class=\"dataframe\">\n",
       "  <thead>\n",
       "    <tr style=\"text-align: right;\">\n",
       "      <th></th>\n",
       "      <th>posted by</th>\n",
       "      <th>post url</th>\n",
       "      <th>tagges users</th>\n",
       "      <th>tagged users followers</th>\n",
       "      <th>tags</th>\n",
       "      <th>tag post totals</th>\n",
       "      <th>likes</th>\n",
       "      <th>comments</th>\n",
       "      <th>user followers</th>\n",
       "    </tr>\n",
       "  </thead>\n",
       "  <tbody>\n",
       "    <tr>\n",
       "      <th>0</th>\n",
       "      <td>cristiano</td>\n",
       "      <td>https://www.instagram.com/p/BxBCZkZg39M/</td>\n",
       "      <td>NaN</td>\n",
       "      <td>0</td>\n",
       "      <td>['finoallafine']</td>\n",
       "      <td>[2029020]</td>\n",
       "      <td>4483294</td>\n",
       "      <td>26800</td>\n",
       "      <td>4483294</td>\n",
       "    </tr>\n",
       "    <tr>\n",
       "      <th>1</th>\n",
       "      <td>cristiano</td>\n",
       "      <td>https://www.instagram.com/p/Bw5BLO8gj3h/</td>\n",
       "      <td>cr7_footwear</td>\n",
       "      <td>1100000</td>\n",
       "      <td>['ayemose']</td>\n",
       "      <td>[131]</td>\n",
       "      <td>3708111</td>\n",
       "      <td>29000</td>\n",
       "      <td>4483294</td>\n",
       "    </tr>\n",
       "    <tr>\n",
       "      <th>2</th>\n",
       "      <td>cristiano</td>\n",
       "      <td>https://www.instagram.com/p/Bw4oZrMgA2k/</td>\n",
       "      <td>juventus</td>\n",
       "      <td>25700000</td>\n",
       "      <td>['TopTraining']</td>\n",
       "      <td>[19980]</td>\n",
       "      <td>4178957</td>\n",
       "      <td>18000</td>\n",
       "      <td>4483294</td>\n",
       "    </tr>\n",
       "    <tr>\n",
       "      <th>3</th>\n",
       "      <td>cristiano</td>\n",
       "      <td>https://www.instagram.com/p/BwzC96LggFK/</td>\n",
       "      <td>nikefootball</td>\n",
       "      <td>37600000</td>\n",
       "      <td>[]</td>\n",
       "      <td>[0]</td>\n",
       "      <td>6984193</td>\n",
       "      <td>45900</td>\n",
       "      <td>4483294</td>\n",
       "    </tr>\n",
       "    <tr>\n",
       "      <th>4</th>\n",
       "      <td>cristiano</td>\n",
       "      <td>https://www.instagram.com/p/BwumY9ZAY9K/</td>\n",
       "      <td>NaN</td>\n",
       "      <td>0</td>\n",
       "      <td>[]</td>\n",
       "      <td>[0]</td>\n",
       "      <td>3224458</td>\n",
       "      <td>13000</td>\n",
       "      <td>4483294</td>\n",
       "    </tr>\n",
       "  </tbody>\n",
       "</table>\n",
       "</div>"
      ],
      "text/plain": [
       "   posted by                                  post url  tagges users  \\\n",
       "0  cristiano  https://www.instagram.com/p/BxBCZkZg39M/           NaN   \n",
       "1  cristiano  https://www.instagram.com/p/Bw5BLO8gj3h/  cr7_footwear   \n",
       "2  cristiano  https://www.instagram.com/p/Bw4oZrMgA2k/      juventus   \n",
       "3  cristiano  https://www.instagram.com/p/BwzC96LggFK/  nikefootball   \n",
       "4  cristiano  https://www.instagram.com/p/BwumY9ZAY9K/           NaN   \n",
       "\n",
       "   tagged users followers              tags tag post totals    likes  \\\n",
       "0                       0  ['finoallafine']       [2029020]  4483294   \n",
       "1                 1100000       ['ayemose']           [131]  3708111   \n",
       "2                25700000   ['TopTraining']         [19980]  4178957   \n",
       "3                37600000                []             [0]  6984193   \n",
       "4                       0                []             [0]  3224458   \n",
       "\n",
       "   comments  user followers  \n",
       "0     26800         4483294  \n",
       "1     29000         4483294  \n",
       "2     18000         4483294  \n",
       "3     45900         4483294  \n",
       "4     13000         4483294  "
      ]
     },
     "execution_count": 89,
     "metadata": {},
     "output_type": "execute_result"
    }
   ],
   "source": [
    "list_like = []\n",
    "for i in range(len(data[\"likes\"])):\n",
    "    for x in range(len(user_data[\"username\"])):\n",
    "        if(user_data[\"username\"][x] == data[\"posted by\"][i]):\n",
    "            list_like.append(data[\"likes\"][x])\n",
    "data[\"user followers\"] = list_like\n",
    "data.head()\n",
    "        "
   ]
  },
  {
   "cell_type": "code",
   "execution_count": 99,
   "metadata": {},
   "outputs": [
    {
     "data": {
      "text/plain": [
       "Text(0, 0.5, 'Frequency')"
      ]
     },
     "execution_count": 99,
     "metadata": {},
     "output_type": "execute_result"
    },
    {
     "data": {
      "image/png": "[encoded data removed]",
      "text/plain": [
       "<Figure size 432x288 with 1 Axes>"
      ]
     },
     "metadata": {},
     "output_type": "display_data"
    }
   ],
   "source": [
    "pyplot.hist(data[\"likes\"])\n",
    "pyplot.title(\"Likes per Post\")\n",
    "pyplot.xlabel('Number of Likes')\n",
    "pyplot.ylabel('Frequency')"
   ]
  },
  {
   "cell_type": "code",
   "execution_count": 100,
   "metadata": {},
   "outputs": [
    {
     "data": {
      "text/plain": [
       "Text(0, 0.5, 'Frequency')"
      ]
     },
     "execution_count": 100,
     "metadata": {},
     "output_type": "execute_result"
    },
    {
     "data": {
      "image/png": "[encoded data removed]",
      "text/plain": [
       "<Figure size 432x288 with 1 Axes>"
      ]
     },
     "metadata": {},
     "output_type": "display_data"
    }
   ],
   "source": [
    "pyplot.hist(data[\"user followers\"])\n",
    "pyplot.title(\"Follower Count\")\n",
    "pyplot.xlabel('Number of Followers')\n",
    "pyplot.ylabel('Frequency')"
   ]
  },
  {
   "cell_type": "code",
   "execution_count": 101,
   "metadata": {},
   "outputs": [
    {
     "data": {
      "text/plain": [
       "Text(0, 0.5, 'Frequency')"
      ]
     },
     "execution_count": 101,
     "metadata": {},
     "output_type": "execute_result"
    },
    {
     "data": {
      "image/png": "[encoded data removed]",
      "text/plain": [
       "<Figure size 432x288 with 1 Axes>"
      ]
     },
     "metadata": {},
     "output_type": "display_data"
    }
   ],
   "source": [
    "pyplot.hist(data[\"comments\"])\n",
    "pyplot.title(\"Comment Count\")\n",
    "pyplot.xlabel('Number of Comments')\n",
    "pyplot.ylabel('Frequency')"
   ]
  },
  {
   "cell_type": "code",
   "execution_count": 102,
   "metadata": {},
   "outputs": [
    {
     "data": {
      "text/plain": [
       "Text(0, 0.5, 'Frequency')"
      ]
     },
     "execution_count": 102,
     "metadata": {},
     "output_type": "execute_result"
    },
    {
     "data": {
      "image/png": "[encoded data removed]",
      "text/plain": [
       "<Figure size 432x288 with 1 Axes>"
      ]
     },
     "metadata": {},
     "output_type": "display_data"
    }
   ],
   "source": [
    "pyplot.hist(data[\"comments\"], bins=10)\n",
    "pyplot.title(\"Comment Count\")\n",
    "pyplot.xlabel('Number of Comments')\n",
    "pyplot.ylabel('Frequency')"
   ]
  },
  {
   "cell_type": "markdown",
   "metadata": {},
   "source": [
    "# __________________________________________________________________________\n",
    "## About tags used in posts\n",
    "We did not graph the frequency of the tags (the actual, qualatative tag istelf) used in posts because most tags were only used once, sometimes several times, but the frequency of most of all the tags was one (1). We also did not believe that having a tag used once (or only a few times) warranted using the tag as a predictor of likes, etc."
   ]
  },
  {
   "cell_type": "code",
   "execution_count": null,
   "metadata": {},
   "outputs": [],
   "source": []
  },
  {
   "cell_type": "code",
   "execution_count": null,
   "metadata": {},
   "outputs": [],
   "source": []
  },
  {
   "cell_type": "code",
   "execution_count": null,
   "metadata": {},
   "outputs": [],
   "source": []
  },
  {
   "cell_type": "markdown",
   "metadata": {},
   "source": [
    "# __________________________________________________________________________\n",
    "## Graphical representations and numeric analysis of  two variables\n",
    "Two variables that be hypothesized may potentially be corrolated with one another."
   ]
  },
  {
   "cell_type": "code",
   "execution_count": 103,
   "metadata": {},
   "outputs": [],
   "source": [
    "#### THIS IS WHAT I JUST DID:"
   ]
  },
  {
   "cell_type": "code",
   "execution_count": 134,
   "metadata": {},
   "outputs": [
    {
     "name": "stdout",
     "output_type": "stream",
     "text": [
      "191\n",
      "191\n",
      "236\n",
      "236\n"
     ]
    }
   ],
   "source": [
    "POSTS_WITH_TAGS = []    # all posts that have at least one tag used\n",
    "LIKES_ON_POSTS_WITH_TAGS = []    # the likes on the posts with tags used\n",
    "FOLLOWERS_ON_POSTS_WITH_TAGS = []\n",
    "\n",
    "POSTS_WITHOUT_TAGS = []    # all posts that have NO tags \n",
    "LIKES_ON_POSTS_WITHOUT_TAGS = []    # the likes on the posts with NO tags\n",
    "FOLLOWERS_ON_POSTS_WITHOUT_TAGS = []\n",
    "\n",
    "for index, row in data.iterrows():\n",
    "    if not row['tags'] == '[]' :\n",
    "        POSTS_WITH_TAGS.append(row['post url'])\n",
    "        LIKES_ON_POSTS_WITH_TAGS.append(row['likes'])\n",
    "        FOLLOWERS_ON_POSTS_WITH_TAGS.append(row['user followers'])\n",
    "    else:\n",
    "        POSTS_WITHOUT_TAGS.append(row['post url'])\n",
    "        LIKES_ON_POSTS_WITHOUT_TAGS.append(row['likes'])\n",
    "        FOLLOWERS_ON_POSTS_WITHOUT_TAGS.append(row['user followers'])\n",
    "print(len(POSTS_WITH_TAGS))\n",
    "print(len(LIKES_ON_POSTS_WITH_TAGS))\n",
    "print(len(POSTS_WITHOUT_TAGS))\n",
    "print(len(LIKES_ON_POSTS_WITHOUT_TAGS))"
   ]
  },
  {
   "cell_type": "code",
   "execution_count": 135,
   "metadata": {},
   "outputs": [],
   "source": [
    "def pearson(X, Y):\n",
    "    covariance = numpy.cov(X,Y)\n",
    "#     print(covariance)\n",
    "    actual_covariance = covariance[1,0]\n",
    "#     print(actual_covariance)\n",
    "    stdX = numpy.std(X)\n",
    "#     print(stdX)\n",
    "    stdY = numpy.std(Y)\n",
    "#     print(stdY)\n",
    "    pearson_cc = actual_covariance / (stdX*stdY)\n",
    "    pearson_cc = numpy.corrcoef(X,Y)[0,1]\n",
    "    \n",
    "    return pearson_cc"
   ]
  },
  {
   "cell_type": "markdown",
   "metadata": {},
   "source": [
    "# __________________________________________________________________________\n",
    "### Posts with  and without tags and likes on those posts\n",
    "Tags & likes"
   ]
  },
  {
   "cell_type": "code",
   "execution_count": 136,
   "metadata": {},
   "outputs": [
    {
     "data": {
      "image/png": "[encoded data removed]",
      "text/plain": [
       "<Figure size 432x288 with 1 Axes>"
      ]
     },
     "metadata": {},
     "output_type": "display_data"
    }
   ],
   "source": [
    "# we removes the x-axix ticks and titles because each tick refers to a different tag and \n",
    "# with iver 100 tags (strings), the ticks/text got cluttered\n",
    "# the progression along the x-axis has no meaning other than to space out the points \n",
    "# (i.e it is not important in terms of the x-axis's relationship with the y-axis)\n",
    "\n",
    "pyplot.scatter(POSTS_WITH_TAGS, LIKES_ON_POSTS_WITH_TAGS)\n",
    "pyplot.title(\"Posts with Tags v. Number of Likes\")\n",
    "pyplot.xlabel('Posts with Tags')\n",
    "pyplot.ylabel('Number of Likes')\n",
    "\n",
    "# https://stackoverflow.com/questions/12998430/remove-xticks-in-a-matplotlib-plot\n",
    "pyplot.tick_params(\n",
    "    axis='x',          # changes apply to the x-axis\n",
    "    which='both',      # both major and minor ticks are affected\n",
    "    bottom=False,      # ticks along the bottom edge are off\n",
    "    top=False,         # ticks along the top edge are off\n",
    "    labelbottom=False) # labels along the bottom edge are off"
   ]
  },
  {
   "cell_type": "code",
   "execution_count": 137,
   "metadata": {},
   "outputs": [
    {
     "data": {
      "image/png": "[encoded data removed]",
      "text/plain": [
       "<Figure size 432x288 with 1 Axes>"
      ]
     },
     "metadata": {},
     "output_type": "display_data"
    }
   ],
   "source": [
    "# we removes the x-axix ticks and titles because each tick refers to a different tag and \n",
    "# with iver 100 tags (strings), the ticks/text got cluttered\n",
    "# the progression along the x-axis has no meaning other than to space out the points \n",
    "# (i.e it is not important in terms of the x-axis's relationship with the y-axis)\n",
    "\n",
    "pyplot.scatter(POSTS_WITHOUT_TAGS, LIKES_ON_POSTS_WITHOUT_TAGS)\n",
    "pyplot.title(\"Posts without Tags v. Number of Likes\")\n",
    "pyplot.xlabel('Posts without Tags')\n",
    "pyplot.ylabel('Number of Likes')\n",
    "\n",
    "# https://stackoverflow.com/questions/12998430/remove-xticks-in-a-matplotlib-plot\n",
    "pyplot.tick_params(\n",
    "    axis='x',          # changes apply to the x-axis\n",
    "    which='both',      # both major and minor ticks are affected\n",
    "    bottom=False,      # ticks along the bottom edge are off\n",
    "    top=False,         # ticks along the top edge are off\n",
    "    labelbottom=False) # labels along the bottom edge are off"
   ]
  },
  {
   "cell_type": "code",
   "execution_count": 138,
   "metadata": {},
   "outputs": [
    {
     "data": {
      "image/png": "[encoded data removed]",
      "text/plain": [
       "<Figure size 432x288 with 1 Axes>"
      ]
     },
     "metadata": {},
     "output_type": "display_data"
    }
   ],
   "source": [
    "fig = pyplot.figure()\n",
    "ax1 = fig.add_subplot(111)\n",
    "\n",
    "pyplot.scatter(POSTS_WITH_TAGS, LIKES_ON_POSTS_WITH_TAGS, color='r')\n",
    "pyplot.scatter(POSTS_WITHOUT_TAGS, LIKES_ON_POSTS_WITHOUT_TAGS, color='g')\n",
    "pyplot.xlabel('Posts With Tags (Red) and Without Tags (Green)')\n",
    "pyplot.ylabel('Number of Likes')\n",
    "pyplot.title('Post Likes With and Without Tags')\n",
    "pyplot.tick_params(\n",
    "    axis='x',          # changes apply to the x-axis\n",
    "    which='both',      # both major and minor ticks are affected\n",
    "    bottom=False,      # ticks along the bottom edge are off\n",
    "    top=False,         # ticks along the top edge are off\n",
    "    labelbottom=False) # labels along the bottom edge are off\n",
    "pyplot.gca().yaxis.grid(True)    # add horizontal axis guide lines\n",
    "pyplot.show()"
   ]
  },
  {
   "cell_type": "code",
   "execution_count": 139,
   "metadata": {},
   "outputs": [
    {
     "data": {
      "image/png": "[encoded data removed]",
      "text/plain": [
       "<Figure size 432x288 with 1 Axes>"
      ]
     },
     "metadata": {},
     "output_type": "display_data"
    }
   ],
   "source": [
    "POSTS_WITH_TAGS.sort()\n",
    "LIKES_ON_POSTS_WITH_TAGS.sort()\n",
    "POSTS_WITHOUT_TAGS.sort()\n",
    "LIKES_ON_POSTS_WITHOUT_TAGS.sort()\n",
    "pyplot.scatter(POSTS_WITH_TAGS, LIKES_ON_POSTS_WITH_TAGS, color='r')\n",
    "pyplot.scatter(POSTS_WITHOUT_TAGS, LIKES_ON_POSTS_WITHOUT_TAGS, color='g')\n",
    "pyplot.xlabel('Posts With Tags (Red) and Without Tags (Green)')\n",
    "pyplot.ylabel('Number of Likes')\n",
    "pyplot.title('Post Likes With and Without Tags')\n",
    "pyplot.tick_params(\n",
    "    axis='x',          # changes apply to the x-axis\n",
    "    which='both',      # both major and minor ticks are affected\n",
    "    bottom=False,      # ticks along the bottom edge are off\n",
    "    top=False,         # ticks along the top edge are off\n",
    "    labelbottom=False) # labels along the bottom edge are off\n",
    "pyplot.gca().yaxis.grid(True)    # add horizontal axis guide lines\n",
    "pyplot.show()"
   ]
  },
  {
   "cell_type": "code",
   "execution_count": 140,
   "metadata": {},
   "outputs": [
    {
     "name": "stdout",
     "output_type": "stream",
     "text": [
      "Mean number of likes on posts with tags:    2320121\n",
      "Mean number of likes on posts without tags: 2791436\n",
      "Mean number of followers on posts with tags:    5240914\n",
      "Mean number of followers on posts without tags: 5704074\n",
      "Like/Follower ratio for posts with tags:    0.442693972276\n",
      "Like/Follower ratio for posts without tags: 0.489375788182\n"
     ]
    }
   ],
   "source": [
    "print('Mean number of likes on posts with tags:   ',int(numpy.mean(LIKES_ON_POSTS_WITH_TAGS)))\n",
    "print('Mean number of likes on posts without tags:',int(numpy.mean(LIKES_ON_POSTS_WITHOUT_TAGS)))\n",
    "\n",
    "print('Mean number of followers on posts with tags:   ',int(numpy.mean(FOLLOWERS_ON_POSTS_WITH_TAGS)))\n",
    "print('Mean number of followers on posts without tags:',int(numpy.mean(FOLLOWERS_ON_POSTS_WITHOUT_TAGS)))\n",
    "\n",
    "print('Like/Follower ratio for posts with tags:   ',numpy.mean(LIKES_ON_POSTS_WITH_TAGS)/numpy.mean(FOLLOWERS_ON_POSTS_WITH_TAGS))\n",
    "print('Like/Follower ratio for posts without tags:',numpy.mean(LIKES_ON_POSTS_WITHOUT_TAGS)/numpy.mean(FOLLOWERS_ON_POSTS_WITHOUT_TAGS))\n"
   ]
  },
  {
   "cell_type": "code",
   "execution_count": 141,
   "metadata": {},
   "outputs": [],
   "source": []
  },
  {
   "cell_type": "code",
   "execution_count": 142,
   "metadata": {},
   "outputs": [
    {
     "name": "stdout",
     "output_type": "stream",
     "text": [
      "191\n",
      "236\n"
     ]
    }
   ],
   "source": [
    "print(len(LIKES_ON_POSTS_WITH_TAGS))\n",
    "print(len(LIKES_ON_POSTS_WITHOUT_TAGS))"
   ]
  },
  {
   "cell_type": "code",
   "execution_count": 143,
   "metadata": {},
   "outputs": [],
   "source": [
    "# ## I'm pretty sure this is not legit, but it is necessary to run a Pearson CC\n",
    "# LIKES_ON_POSTS_WITH_TAGS_adjusted = LIKES_ON_POSTS_WITH_TAGS\n",
    "# for i in range(len(LIKES_ON_POSTS_WITHOUT_TAGS) - len(LIKES_ON_POSTS_WITH_TAGS)):\n",
    "#     LIKES_ON_POSTS_WITH_TAGS_adjusted.append(numpy.mean(LIKES_ON_POSTS_WITH_TAGS))"
   ]
  },
  {
   "cell_type": "code",
   "execution_count": 145,
   "metadata": {},
   "outputs": [
    {
     "data": {
      "image/png": "[encoded data removed]",
      "text/plain": [
       "<Figure size 432x288 with 1 Axes>"
      ]
     },
     "metadata": {},
     "output_type": "display_data"
    }
   ],
   "source": [
    "# Pearson Correlation Coefficient\n",
    "# We will NOT use this data in our analysis\n",
    "pyplot.plot(LIKES_ON_POSTS_WITH_TAGS, 'r')\n",
    "pyplot.plot(LIKES_ON_POSTS_WITHOUT_TAGS, 'g')\n",
    "pyplot.show()\n",
    "# pearson = pearson(LIKES_ON_POSTS_WITH_TAGS, LIKES_ON_POSTS_WITHOUT_TAGS)\n",
    "# print('Pearson correlation coefficient:', pearson)"
   ]
  },
  {
   "cell_type": "code",
   "execution_count": null,
   "metadata": {},
   "outputs": [],
   "source": []
  },
  {
   "cell_type": "markdown",
   "metadata": {},
   "source": [
    "# __________________________________________________________________________\n",
    "### Posts with and without tagged users and likes on those posts\n",
    "Tagged users & likes"
   ]
  },
  {
   "cell_type": "code",
   "execution_count": 146,
   "metadata": {},
   "outputs": [
    {
     "name": "stdout",
     "output_type": "stream",
     "text": [
      "107\n",
      "107\n",
      "320\n",
      "320\n"
     ]
    }
   ],
   "source": [
    "POSTS_WITH_TAGGED_USERS = []    # all posts that have at least one tag used\n",
    "LIKES_ON_POSTS_WITH_TAGGED_USERS = []    # the likes on the posts with tags used\n",
    "FOLLOWERS_ON_POSTS_WITH_TAGGED_USERS = []\n",
    "\n",
    "POSTS_WITHOUT_TAGGED_USERS = []    # all posts that have NO tags \n",
    "LIKES_ON_POSTS_WITHOUT_TAGGED_USERS = []    # the likes on the posts with NO tags\n",
    "FOLLOWERS_ON_POSTS_WITHOUT_TAGGED_USERS = []\n",
    "\n",
    "for index, row in data.iterrows():\n",
    "    if not row['tagged users followers'] == 0:\n",
    "        POSTS_WITH_TAGGED_USERS.append(row['post url'])\n",
    "        LIKES_ON_POSTS_WITH_TAGGED_USERS.append(row['likes'])\n",
    "        FOLLOWERS_ON_POSTS_WITH_TAGGED_USERS.append(row['user followers'])\n",
    "    else:\n",
    "        POSTS_WITHOUT_TAGGED_USERS.append(row['post url'])\n",
    "        LIKES_ON_POSTS_WITHOUT_TAGGED_USERS.append(row['likes'])\n",
    "        FOLLOWERS_ON_POSTS_WITHOUT_TAGGED_USERS.append(row['user followers'])\n",
    "print(len(POSTS_WITH_TAGGED_USERS))\n",
    "print(len(LIKES_ON_POSTS_WITH_TAGGED_USERS))\n",
    "print(len(POSTS_WITHOUT_TAGGED_USERS))\n",
    "print(len(LIKES_ON_POSTS_WITHOUT_TAGGED_USERS))"
   ]
  },
  {
   "cell_type": "code",
   "execution_count": 147,
   "metadata": {},
   "outputs": [
    {
     "data": {
      "image/png": "[encoded data removed]",
      "text/plain": [
       "<Figure size 432x288 with 1 Axes>"
      ]
     },
     "metadata": {},
     "output_type": "display_data"
    }
   ],
   "source": [
    "fig = pyplot.figure()\n",
    "ax1 = fig.add_subplot(111)\n",
    "\n",
    "pyplot.scatter(POSTS_WITH_TAGGED_USERS, LIKES_ON_POSTS_WITH_TAGGED_USERS, color='r')\n",
    "pyplot.scatter(POSTS_WITHOUT_TAGGED_USERS, LIKES_ON_POSTS_WITHOUT_TAGGED_USERS, color='g')\n",
    "pyplot.xlabel('Posts With Tagged Userd (Red) and Without Tagged Users (Green)')\n",
    "pyplot.ylabel('Number of Likes')\n",
    "pyplot.title('Post Likes With and Without Tagged Users')\n",
    "pyplot.tick_params(\n",
    "    axis='x',          # changes apply to the x-axis\n",
    "    which='both',      # both major and minor ticks are affected\n",
    "    bottom=False,      # ticks along the bottom edge are off\n",
    "    top=False,         # ticks along the top edge are off\n",
    "    labelbottom=False) # labels along the bottom edge are off\n",
    "pyplot.gca().yaxis.grid(True)    # add horizontal axis guide lines\n",
    "pyplot.show()"
   ]
  },
  {
   "cell_type": "code",
   "execution_count": 148,
   "metadata": {},
   "outputs": [
    {
     "data": {
      "image/png": "[encoded data removed]",
      "text/plain": [
       "<Figure size 432x288 with 1 Axes>"
      ]
     },
     "metadata": {},
     "output_type": "display_data"
    }
   ],
   "source": [
    "POSTS_WITH_TAGS.sort()\n",
    "LIKES_ON_POSTS_WITH_TAGGED_USERS.sort()\n",
    "POSTS_WITHOUT_TAGGED_USERS.sort()\n",
    "LIKES_ON_POSTS_WITHOUT_TAGGED_USERS.sort()\n",
    "pyplot.scatter(POSTS_WITH_TAGGED_USERS, LIKES_ON_POSTS_WITH_TAGGED_USERS, color='r')\n",
    "pyplot.scatter(POSTS_WITHOUT_TAGGED_USERS, LIKES_ON_POSTS_WITHOUT_TAGGED_USERS, color='g')\n",
    "pyplot.xlabel('Posts With Tagged Users (Red) and Without Tagged Users (Green)')\n",
    "pyplot.ylabel('Number of Likes')\n",
    "pyplot.title('Post Likes With and Without Tagged Users')\n",
    "pyplot.tick_params(\n",
    "    axis='x',          # changes apply to the x-axis\n",
    "    which='both',      # both major and minor ticks are affected\n",
    "    bottom=False,      # ticks along the bottom edge are off\n",
    "    top=False,         # ticks along the top edge are off\n",
    "    labelbottom=False) # labels along the bottom edge are off\n",
    "pyplot.gca().yaxis.grid(True)    # add horizontal axis guide lines\n",
    "pyplot.show()"
   ]
  },
  {
   "cell_type": "code",
   "execution_count": 149,
   "metadata": {},
   "outputs": [
    {
     "name": "stdout",
     "output_type": "stream",
     "text": [
      "Mean number of likes on posts with tagged users:    2461116\n",
      "Mean number of likes on posts without tagged users: 2620570\n",
      "Mean number of followers on posts with tagged users:    5403306\n",
      "Mean number of followers on posts without tagged users: 5528195\n",
      "Like/Follower ratio for posts with tagged users:    0.455483469744\n",
      "Like/Follower ratio for posts without tagged users: 0.474037254612\n"
     ]
    }
   ],
   "source": [
    "print('Mean number of likes on posts with tagged users:   ',int(numpy.mean(LIKES_ON_POSTS_WITH_TAGGED_USERS)))\n",
    "print('Mean number of likes on posts without tagged users:',int(numpy.mean(LIKES_ON_POSTS_WITHOUT_TAGGED_USERS)))\n",
    "\n",
    "print('Mean number of followers on posts with tagged users:   ',int(numpy.mean(FOLLOWERS_ON_POSTS_WITH_TAGGED_USERS)))\n",
    "print('Mean number of followers on posts without tagged users:',int(numpy.mean(FOLLOWERS_ON_POSTS_WITHOUT_TAGGED_USERS)))\n",
    "\n",
    "print('Like/Follower ratio for posts with tagged users:   ',numpy.mean(LIKES_ON_POSTS_WITH_TAGGED_USERS)/numpy.mean(FOLLOWERS_ON_POSTS_WITH_TAGGED_USERS))\n",
    "print('Like/Follower ratio for posts without tagged users:',numpy.mean(LIKES_ON_POSTS_WITHOUT_TAGGED_USERS)/numpy.mean(FOLLOWERS_ON_POSTS_WITHOUT_TAGGED_USERS))\n"
   ]
  },
  {
   "cell_type": "code",
   "execution_count": 150,
   "metadata": {},
   "outputs": [],
   "source": [
    "#### END OF WHAT I JUST DID^^^"
   ]
  },
  {
   "cell_type": "markdown",
   "metadata": {},
   "source": [
    "# __________________________________________________________________________\n",
    "### Posts with and wihtout tags and comments and likes on those posts\n",
    "Tags & comments & likes"
   ]
  },
  {
   "cell_type": "code",
   "execution_count": 151,
   "metadata": {},
   "outputs": [],
   "source": [
    "#### START OF SHANE"
   ]
  },
  {
   "cell_type": "code",
   "execution_count": 152,
   "metadata": {},
   "outputs": [
    {
     "data": {
      "text/html": [
       "<div>\n",
       "<style scoped>\n",
       "    .dataframe tbody tr th:only-of-type {\n",
       "        vertical-align: middle;\n",
       "    }\n",
       "\n",
       "    .dataframe tbody tr th {\n",
       "        vertical-align: top;\n",
       "    }\n",
       "\n",
       "    .dataframe thead th {\n",
       "        text-align: right;\n",
       "    }\n",
       "</style>\n",
       "<table border=\"1\" class=\"dataframe\">\n",
       "  <thead>\n",
       "    <tr style=\"text-align: right;\">\n",
       "      <th></th>\n",
       "      <th>posted by</th>\n",
       "      <th>post url</th>\n",
       "      <th>tagges users</th>\n",
       "      <th>tagged users followers</th>\n",
       "      <th>tags</th>\n",
       "      <th>tag post totals</th>\n",
       "      <th>likes</th>\n",
       "      <th>comments</th>\n",
       "      <th>user followers</th>\n",
       "    </tr>\n",
       "  </thead>\n",
       "  <tbody>\n",
       "    <tr>\n",
       "      <th>0</th>\n",
       "      <td>cristiano</td>\n",
       "      <td>https://www.instagram.com/p/BxBCZkZg39M/</td>\n",
       "      <td>NaN</td>\n",
       "      <td>0</td>\n",
       "      <td>['finoallafine']</td>\n",
       "      <td>[2029020]</td>\n",
       "      <td>4483294</td>\n",
       "      <td>26800</td>\n",
       "      <td>165000000</td>\n",
       "    </tr>\n",
       "    <tr>\n",
       "      <th>1</th>\n",
       "      <td>cristiano</td>\n",
       "      <td>https://www.instagram.com/p/Bw5BLO8gj3h/</td>\n",
       "      <td>cr7_footwear</td>\n",
       "      <td>1100000</td>\n",
       "      <td>['ayemose']</td>\n",
       "      <td>[131]</td>\n",
       "      <td>3708111</td>\n",
       "      <td>29000</td>\n",
       "      <td>165000000</td>\n",
       "    </tr>\n",
       "    <tr>\n",
       "      <th>2</th>\n",
       "      <td>cristiano</td>\n",
       "      <td>https://www.instagram.com/p/Bw4oZrMgA2k/</td>\n",
       "      <td>juventus</td>\n",
       "      <td>25700000</td>\n",
       "      <td>['TopTraining']</td>\n",
       "      <td>[19980]</td>\n",
       "      <td>4178957</td>\n",
       "      <td>18000</td>\n",
       "      <td>165000000</td>\n",
       "    </tr>\n",
       "    <tr>\n",
       "      <th>3</th>\n",
       "      <td>cristiano</td>\n",
       "      <td>https://www.instagram.com/p/BwzC96LggFK/</td>\n",
       "      <td>nikefootball</td>\n",
       "      <td>37600000</td>\n",
       "      <td>[]</td>\n",
       "      <td>[0]</td>\n",
       "      <td>6984193</td>\n",
       "      <td>45900</td>\n",
       "      <td>165000000</td>\n",
       "    </tr>\n",
       "    <tr>\n",
       "      <th>4</th>\n",
       "      <td>cristiano</td>\n",
       "      <td>https://www.instagram.com/p/BwumY9ZAY9K/</td>\n",
       "      <td>NaN</td>\n",
       "      <td>0</td>\n",
       "      <td>[]</td>\n",
       "      <td>[0]</td>\n",
       "      <td>3224458</td>\n",
       "      <td>13000</td>\n",
       "      <td>165000000</td>\n",
       "    </tr>\n",
       "  </tbody>\n",
       "</table>\n",
       "</div>"
      ],
      "text/plain": [
       "   posted by                                  post url  tagges users  \\\n",
       "0  cristiano  https://www.instagram.com/p/BxBCZkZg39M/           NaN   \n",
       "1  cristiano  https://www.instagram.com/p/Bw5BLO8gj3h/  cr7_footwear   \n",
       "2  cristiano  https://www.instagram.com/p/Bw4oZrMgA2k/      juventus   \n",
       "3  cristiano  https://www.instagram.com/p/BwzC96LggFK/  nikefootball   \n",
       "4  cristiano  https://www.instagram.com/p/BwumY9ZAY9K/           NaN   \n",
       "\n",
       "   tagged users followers              tags tag post totals    likes  \\\n",
       "0                       0  ['finoallafine']       [2029020]  4483294   \n",
       "1                 1100000       ['ayemose']           [131]  3708111   \n",
       "2                25700000   ['TopTraining']         [19980]  4178957   \n",
       "3                37600000                []             [0]  6984193   \n",
       "4                       0                []             [0]  3224458   \n",
       "\n",
       "   comments  user followers  \n",
       "0     26800       165000000  \n",
       "1     29000       165000000  \n",
       "2     18000       165000000  \n",
       "3     45900       165000000  \n",
       "4     13000       165000000  "
      ]
     },
     "execution_count": 152,
     "metadata": {},
     "output_type": "execute_result"
    }
   ],
   "source": [
    "##added the number of followers for the person who posted for each post\n",
    "\n",
    "followers_data = []\n",
    "for i, rows in data.iterrows():\n",
    "    for x, rows in user_data.iterrows():\n",
    "        if(data[\"posted by\"][i] == user_data[\"username\"][x] ):\n",
    "            followers_data.append(user_data[\"followers\"][x])\n",
    "\n",
    "data[\"user followers\"] = followers_data\n",
    "data.head(5)"
   ]
  },
  {
   "cell_type": "code",
   "execution_count": 153,
   "metadata": {},
   "outputs": [
    {
     "data": {
      "text/plain": [
       "Text(0, 0.5, '# of Comments')"
      ]
     },
     "execution_count": 153,
     "metadata": {},
     "output_type": "execute_result"
    },
    {
     "data": {
      "image/png": "[encoded data removed]",
      "text/plain": [
       "<Figure size 432x288 with 1 Axes>"
      ]
     },
     "metadata": {},
     "output_type": "display_data"
    }
   ],
   "source": [
    "##this and the bottom one is just the data on a scatterplot NOT divided by tagged and untagged\n",
    "\n",
    "pyplot.scatter(data[\"likes\"], data[\"comments\"]) \n",
    "pyplot.title(\"# of Likes v. # of Comments\")\n",
    "pyplot.xlabel('# of Likes')\n",
    "pyplot.ylabel('# of Comments')"
   ]
  },
  {
   "cell_type": "code",
   "execution_count": 154,
   "metadata": {},
   "outputs": [
    {
     "data": {
      "text/plain": [
       "Text(0, 0.5, '# of Comments')"
      ]
     },
     "execution_count": 154,
     "metadata": {},
     "output_type": "execute_result"
    },
    {
     "data": {
      "image/png": "[encoded data removed]",
      "text/plain": [
       "<Figure size 432x288 with 1 Axes>"
      ]
     },
     "metadata": {},
     "output_type": "display_data"
    }
   ],
   "source": [
    "pyplot.scatter(data[\"user followers\"], data[\"comments\"])\n",
    "pyplot.title(\"# of Followers v. # of Comments\")\n",
    "pyplot.xlabel('# of Followers')\n",
    "pyplot.ylabel('# of Comments')"
   ]
  },
  {
   "cell_type": "code",
   "execution_count": 155,
   "metadata": {},
   "outputs": [
    {
     "name": "stdout",
     "output_type": "stream",
     "text": [
      "191\n",
      "191\n",
      "236\n",
      "236\n"
     ]
    }
   ],
   "source": [
    "POSTS_WITH_TAGS = []    # all posts that have at least one tag used\n",
    "COMMENTS_ON_POSTS_WITH_TAGS = []    # the comments on the posts with tags used\n",
    "LIKES_ON_POSTS_WITH_TAGS = []\n",
    "\n",
    "POSTS_WITHOUT_TAGS = []    # all posts that have NO tags \n",
    "COMMENTS_ON_POSTS_WITHOUT_TAGS = []    # the comments on the posts with NO tags\n",
    "LIKES_ON_POSTS_WITHOUT_TAGS = []\n",
    "\n",
    "for index, row in data.iterrows():\n",
    "    if not row['tags'] == '[]' :\n",
    "        POSTS_WITH_TAGS.append(row['post url'])\n",
    "        COMMENTS_ON_POSTS_WITH_TAGS.append(row['comments'])\n",
    "        LIKES_ON_POSTS_WITH_TAGS.append(row['likes'])\n",
    "    else:\n",
    "        POSTS_WITHOUT_TAGS.append(row['post url'])\n",
    "        COMMENTS_ON_POSTS_WITHOUT_TAGS.append(row['comments'])\n",
    "        LIKES_ON_POSTS_WITHOUT_TAGS.append(row['likes'])\n",
    "        \n",
    "print(len(POSTS_WITH_TAGS))\n",
    "print(len(COMMENTS_ON_POSTS_WITH_TAGS))\n",
    "print(len(POSTS_WITHOUT_TAGS))\n",
    "print(len(COMMENTS_ON_POSTS_WITHOUT_TAGS))"
   ]
  },
  {
   "cell_type": "code",
   "execution_count": 156,
   "metadata": {},
   "outputs": [
    {
     "data": {
      "image/png": "[encoded data removed]",
      "text/plain": [
       "<Figure size 432x288 with 1 Axes>"
      ]
     },
     "metadata": {},
     "output_type": "display_data"
    }
   ],
   "source": [
    "pyplot.scatter(LIKES_ON_POSTS_WITH_TAGS, COMMENTS_ON_POSTS_WITH_TAGS)\n",
    "pyplot.title(\"Likes on Posts with Tags v. Comments on Posts with Tags\")\n",
    "pyplot.xlabel('Likes on Posts with Tags')\n",
    "pyplot.ylabel('Comments on Post with Tags')\n",
    "\n",
    "pyplot.tick_params(\n",
    "    axis='x',          # changes apply to the x-axis\n",
    "    which='both',      # both major and minor ticks are affected\n",
    "    bottom=False,      # ticks along the bottom edge are off\n",
    "    top=False,         # ticks along the top edge are off\n",
    "    labelbottom=False) # labels along the bottom edge are off"
   ]
  },
  {
   "cell_type": "code",
   "execution_count": 157,
   "metadata": {},
   "outputs": [
    {
     "data": {
      "image/png": "[encoded data removed]",
      "text/plain": [
       "<Figure size 432x288 with 1 Axes>"
      ]
     },
     "metadata": {},
     "output_type": "display_data"
    }
   ],
   "source": [
    "pyplot.scatter(LIKES_ON_POSTS_WITHOUT_TAGS, COMMENTS_ON_POSTS_WITHOUT_TAGS)\n",
    "pyplot.title(\"Likes on Posts without Tags v. Comments on Posts without Tags\")\n",
    "pyplot.xlabel('Likes on Posts without Tags')\n",
    "pyplot.ylabel('Comments on Post without Tags')\n",
    "\n",
    "# https://stackoverflow.com/questions/12998430/remove-xticks-in-a-matplotlib-plot\n",
    "pyplot.tick_params(\n",
    "    axis='x',          # changes apply to the x-axis\n",
    "    which='both',      # both major and minor ticks are affected\n",
    "    bottom=False,      # ticks along the bottom edge are off\n",
    "    top=False,         # ticks along the top edge are off\n",
    "    labelbottom=False) # labels along the bottom edge are off"
   ]
  },
  {
   "cell_type": "code",
   "execution_count": 158,
   "metadata": {},
   "outputs": [
    {
     "data": {
      "image/png": "[encoded data removed]",
      "text/plain": [
       "<Figure size 432x288 with 1 Axes>"
      ]
     },
     "metadata": {},
     "output_type": "display_data"
    }
   ],
   "source": [
    "fig = pyplot.figure()\n",
    "ax1 = fig.add_subplot(111)\n",
    "\n",
    "pyplot.scatter(LIKES_ON_POSTS_WITH_TAGS, COMMENTS_ON_POSTS_WITH_TAGS, color = \"r\")\n",
    "pyplot.scatter(LIKES_ON_POSTS_WITHOUT_TAGS, COMMENTS_ON_POSTS_WITHOUT_TAGS, color = \"y\")\n",
    "pyplot.xlabel('Likes on Posts With Tags (Red) and Likes on Post Without Tags (Yellow)')\n",
    "pyplot.ylabel('Number of Comments')\n",
    "pyplot.title('Likes vs Comments on Posts With and Without Tags')\n",
    "\n",
    "pyplot.tick_params(\n",
    "    axis='x',          # changes apply to the x-axis\n",
    "    which='both',      # both major and minor ticks are affected\n",
    "    bottom=False,      # ticks along the bottom edge are off\n",
    "    top=False,         # ticks along the top edge are off\n",
    "    labelbottom=False) # labels along the bottom edge are off\n",
    "pyplot.gca().yaxis.grid(True)    # add horizontal axis guide lines\n",
    "pyplot.show()"
   ]
  },
  {
   "cell_type": "code",
   "execution_count": 159,
   "metadata": {},
   "outputs": [
    {
     "data": {
      "image/png": "[encoded data removed]",
      "text/plain": [
       "<Figure size 432x288 with 1 Axes>"
      ]
     },
     "metadata": {},
     "output_type": "display_data"
    }
   ],
   "source": [
    "POSTS_WITH_TAGS.sort()\n",
    "POSTS_WITHOUT_TAGS.sort()\n",
    "COMMENTS_ON_POSTS_WITH_TAGS.sort()\n",
    "LIKES_ON_POSTS_WITH_TAGS.sort()\n",
    "COMMENTS_ON_POSTS_WITHOUT_TAGS.sort()\n",
    "LIKES_ON_POSTS_WITHOUT_TAGS.sort()\n",
    "\n",
    "pyplot.scatter(LIKES_ON_POSTS_WITH_TAGS, COMMENTS_ON_POSTS_WITH_TAGS, color = \"r\")\n",
    "pyplot.scatter(LIKES_ON_POSTS_WITHOUT_TAGS, COMMENTS_ON_POSTS_WITHOUT_TAGS, color = \"y\")\n",
    "pyplot.xlabel('Likes on Posts With Tags (Red) and Likes on Post Without Tags (Yellow)')\n",
    "pyplot.ylabel('Number of Comments')\n",
    "pyplot.title('Likes vs Comments on Posts With and Without Tags')\n",
    "pyplot.tick_params(\n",
    "    axis='x',          # changes apply to the x-axis\n",
    "    which='both',      # both major and minor ticks are affected\n",
    "    bottom=False,      # ticks along the bottom edge are off\n",
    "    top=False,         # ticks along the top edge are off\n",
    "    labelbottom=False) # labels along the bottom edge are off\n",
    "pyplot.gca().yaxis.grid(True)    # add horizontal axis guide lines\n",
    "pyplot.show()"
   ]
  },
  {
   "cell_type": "code",
   "execution_count": 160,
   "metadata": {},
   "outputs": [
    {
     "name": "stdout",
     "output_type": "stream",
     "text": [
      "Mean number of likes on posts with tagged users:    2461116\n",
      "Mean number of likes on posts without tagged users: 2620570\n",
      "Mean number of comments on posts with tagged users:    19037\n",
      "Mean number of comments on posts without tagged users: 19604\n",
      "Like/Comments ratio for posts with tagged users:    121.871504236\n",
      "Like/Comments ratio for posts without tagged users: 142.388502647\n"
     ]
    }
   ],
   "source": [
    "print('Mean number of likes on posts with tagged users:   ',int(numpy.mean(LIKES_ON_POSTS_WITH_TAGGED_USERS)))\n",
    "print('Mean number of likes on posts without tagged users:',int(numpy.mean(LIKES_ON_POSTS_WITHOUT_TAGGED_USERS)))\n",
    "\n",
    "print('Mean number of comments on posts with tagged users:   ',int(numpy.mean(COMMENTS_ON_POSTS_WITH_TAGS)))\n",
    "print('Mean number of comments on posts without tagged users:',int(numpy.mean(COMMENTS_ON_POSTS_WITHOUT_TAGS)))\n",
    "\n",
    "print('Like/Comments ratio for posts with tagged users:   ',numpy.mean(LIKES_ON_POSTS_WITH_TAGS)/numpy.mean(COMMENTS_ON_POSTS_WITH_TAGS))\n",
    "print('Like/Comments ratio for posts without tagged users:',numpy.mean(LIKES_ON_POSTS_WITHOUT_TAGS)/numpy.mean(COMMENTS_ON_POSTS_WITHOUT_TAGS))\n",
    "\n"
   ]
  },
  {
   "cell_type": "markdown",
   "metadata": {},
   "source": [
    "# __________________________________________________________________________\n",
    "### Followers for the posting account and comments and likes on their posts with and without tag usage\n",
    "Followers & comments & likes & tags"
   ]
  },
  {
   "cell_type": "code",
   "execution_count": 161,
   "metadata": {},
   "outputs": [
    {
     "name": "stdout",
     "output_type": "stream",
     "text": [
      "191\n",
      "191\n",
      "236\n",
      "236\n"
     ]
    }
   ],
   "source": [
    "POSTS_WITH_TAGS = []    # all posts that have at least one tag used\n",
    "COMMENTS_ON_POSTS_WITH_TAGS = []    # the comments on the posts with tags used\n",
    "FOLLOWERS_ON_POSTS_WITH_TAGS = []\n",
    "\n",
    "POSTS_WITHOUT_TAGS = []    # all posts that have NO tags \n",
    "COMMENTS_ON_POSTS_WITHOUT_TAGS = []    # the comments on the posts with NO tags\n",
    "FOLLOWERS_ON_POSTS_WITHOUT_TAGS = []\n",
    "\n",
    "for index, row in data.iterrows():\n",
    "    if not row['tags'] == '[]' :\n",
    "        POSTS_WITH_TAGS.append(row['post url'])\n",
    "        COMMENTS_ON_POSTS_WITH_TAGS.append(row['comments'])\n",
    "        FOLLOWERS_ON_POSTS_WITH_TAGS.append(row['user followers'])\n",
    "    else:\n",
    "        POSTS_WITHOUT_TAGS.append(row['post url'])\n",
    "        COMMENTS_ON_POSTS_WITHOUT_TAGS.append(row['comments'])\n",
    "        FOLLOWERS_ON_POSTS_WITHOUT_TAGS.append(row['user followers'])\n",
    "        \n",
    "print(len(POSTS_WITH_TAGS))\n",
    "print(len(COMMENTS_ON_POSTS_WITH_TAGS))\n",
    "print(len(POSTS_WITHOUT_TAGS))\n",
    "print(len(COMMENTS_ON_POSTS_WITHOUT_TAGS))"
   ]
  },
  {
   "cell_type": "code",
   "execution_count": 162,
   "metadata": {},
   "outputs": [
    {
     "data": {
      "image/png": "[encoded data removed]",
      "text/plain": [
       "<Figure size 432x288 with 1 Axes>"
      ]
     },
     "metadata": {},
     "output_type": "display_data"
    }
   ],
   "source": [
    "pyplot.scatter(FOLLOWERS_ON_POSTS_WITH_TAGS, COMMENTS_ON_POSTS_WITH_TAGS)\n",
    "pyplot.title(\"Followers v. Comments on Posts with Tags\")\n",
    "pyplot.xlabel('Followers on Posts with Tags')\n",
    "pyplot.ylabel('Comments on Post with Tags')\n",
    "\n",
    "pyplot.tick_params(\n",
    "    axis='x',          # changes apply to the x-axis\n",
    "    which='both',      # both major and minor ticks are affected\n",
    "    bottom=False,      # ticks along the bottom edge are off\n",
    "    top=False,         # ticks along the top edge are off\n",
    "    labelbottom=False) # labels along the bottom edge are off"
   ]
  },
  {
   "cell_type": "code",
   "execution_count": 163,
   "metadata": {},
   "outputs": [
    {
     "data": {
      "image/png": "[encoded data removed]",
      "text/plain": [
       "<Figure size 432x288 with 1 Axes>"
      ]
     },
     "metadata": {},
     "output_type": "display_data"
    }
   ],
   "source": [
    "pyplot.scatter(FOLLOWERS_ON_POSTS_WITHOUT_TAGS, COMMENTS_ON_POSTS_WITHOUT_TAGS)\n",
    "pyplot.title(\"Followers v. Comments on Posts without Tags\")\n",
    "pyplot.xlabel('Followers on Posts without Tags')\n",
    "pyplot.ylabel('Comments on Post without Tags')\n",
    "\n",
    "# https://stackoverflow.com/questions/12998430/remove-xticks-in-a-matplotlib-plot\n",
    "pyplot.tick_params(\n",
    "    axis='x',          # changes apply to the x-axis\n",
    "    which='both',      # both major and minor ticks are affected\n",
    "    bottom=False,      # ticks along the bottom edge are off\n",
    "    top=False,         # ticks along the top edge are off\n",
    "    labelbottom=False) # labels along the bottom edge are off"
   ]
  },
  {
   "cell_type": "code",
   "execution_count": 164,
   "metadata": {},
   "outputs": [
    {
     "data": {
      "image/png": "[encoded data removed]",
      "text/plain": [
       "<Figure size 432x288 with 1 Axes>"
      ]
     },
     "metadata": {},
     "output_type": "display_data"
    }
   ],
   "source": [
    "fig = pyplot.figure()\n",
    "ax1 = fig.add_subplot(111)\n",
    "\n",
    "pyplot.scatter(FOLLOWERS_ON_POSTS_WITH_TAGS, COMMENTS_ON_POSTS_WITH_TAGS)\n",
    "pyplot.scatter(FOLLOWERS_ON_POSTS_WITHOUT_TAGS, COMMENTS_ON_POSTS_WITHOUT_TAGS)\n",
    "\n",
    "pyplot.xlabel('Followers on Posts With Tags (Red) and Followers on Post Without Tags (Yellow)')\n",
    "pyplot.ylabel('Number of Comments')\n",
    "pyplot.title('Likes vs Comments on Posts With and Without Tags')\n",
    "\n",
    "pyplot.tick_params(\n",
    "    axis='x',          # changes apply to the x-axis\n",
    "    which='both',      # both major and minor ticks are affected\n",
    "    bottom=False,      # ticks along the bottom edge are off\n",
    "    top=False,         # ticks along the top edge are off\n",
    "    labelbottom=False) # labels along the bottom edge are off\n",
    "pyplot.gca().yaxis.grid(True)    # add horizontal axis guide lines\n",
    "pyplot.show()"
   ]
  },
  {
   "cell_type": "code",
   "execution_count": 165,
   "metadata": {},
   "outputs": [
    {
     "data": {
      "image/png": "[encoded data removed]",
      "text/plain": [
       "<Figure size 432x288 with 1 Axes>"
      ]
     },
     "metadata": {},
     "output_type": "display_data"
    }
   ],
   "source": [
    "POSTS_WITH_TAGS.sort()\n",
    "POSTS_WITHOUT_TAGS.sort()\n",
    "COMMENTS_ON_POSTS_WITH_TAGS.sort()\n",
    "FOLLOWERS_ON_POSTS_WITH_TAGS.sort()\n",
    "COMMENTS_ON_POSTS_WITHOUT_TAGS.sort()\n",
    "FOLLOWERS_ON_POSTS_WITHOUT_TAGS.sort()\n",
    "\n",
    "pyplot.scatter(FOLLOWERS_ON_POSTS_WITH_TAGS, COMMENTS_ON_POSTS_WITH_TAGS)\n",
    "pyplot.scatter(FOLLOWERS_ON_POSTS_WITHOUT_TAGS, COMMENTS_ON_POSTS_WITHOUT_TAGS)\n",
    "pyplot.xlabel('Followers on Posts With Tags (Red) and Followers on Post Without Tags (Yellow)')\n",
    "pyplot.ylabel('Number of Comments')\n",
    "pyplot.title('Likes vs Comments on Posts With and Without Tags')\n",
    "pyplot.tick_params(\n",
    "    axis='x',          # changes apply to the x-axis\n",
    "    which='both',      # both major and minor ticks are affected\n",
    "    bottom=False,      # ticks along the bottom edge are off\n",
    "    top=False,         # ticks along the top edge are off\n",
    "    labelbottom=False) # labels along the bottom edge are off\n",
    "pyplot.gca().yaxis.grid(True)    # add horizontal axis guide lines\n",
    "pyplot.show()"
   ]
  },
  {
   "cell_type": "code",
   "execution_count": 166,
   "metadata": {},
   "outputs": [
    {
     "name": "stdout",
     "output_type": "stream",
     "text": [
      "Mean number of followers on posts with tagged users:    73209424\n",
      "Mean number of followers on posts without tagged users: 75118644\n",
      "Mean number of comments on posts with tagged users:    19037\n",
      "Mean number of comments on posts without tagged users: 19604\n",
      "Followers/Comments ratio for posts with tagged users:    3845.54986853\n",
      "Like/Comments ratio for posts without tagged users: 3831.73065493\n"
     ]
    }
   ],
   "source": [
    "print('Mean number of followers on posts with tagged users:   ',int(numpy.mean(FOLLOWERS_ON_POSTS_WITH_TAGS)))\n",
    "print('Mean number of followers on posts without tagged users:',int(numpy.mean(FOLLOWERS_ON_POSTS_WITHOUT_TAGS)))\n",
    "\n",
    "print('Mean number of comments on posts with tagged users:   ',int(numpy.mean(COMMENTS_ON_POSTS_WITH_TAGS)))\n",
    "print('Mean number of comments on posts without tagged users:',int(numpy.mean(COMMENTS_ON_POSTS_WITHOUT_TAGS)))\n",
    "\n",
    "print('Followers/Comments ratio for posts with tagged users:   ',numpy.mean(FOLLOWERS_ON_POSTS_WITH_TAGS)/numpy.mean(COMMENTS_ON_POSTS_WITH_TAGS))\n",
    "print('Like/Comments ratio for posts without tagged users:',numpy.mean(FOLLOWERS_ON_POSTS_WITHOUT_TAGS)/numpy.mean(COMMENTS_ON_POSTS_WITHOUT_TAGS))"
   ]
  },
  {
   "cell_type": "code",
   "execution_count": 167,
   "metadata": {},
   "outputs": [],
   "source": [
    "### END OF SHANE"
   ]
  },
  {
   "cell_type": "markdown",
   "metadata": {},
   "source": [
    "# __________________________________________________________________________\n",
    "### Followers for posing account and likes on their posts\n",
    "Followers & likes"
   ]
  },
  {
   "cell_type": "code",
   "execution_count": 168,
   "metadata": {},
   "outputs": [
    {
     "data": {
      "text/plain": [
       "Text(0, 0.5, 'Number of Likes')"
      ]
     },
     "execution_count": 168,
     "metadata": {},
     "output_type": "execute_result"
    },
    {
     "data": {
      "image/png": "[encoded data removed]",
      "text/plain": [
       "<Figure size 432x288 with 1 Axes>"
      ]
     },
     "metadata": {},
     "output_type": "display_data"
    }
   ],
   "source": [
    "pyplot.scatter(data[\"user followers\"], data[\"likes\"])\n",
    "pyplot.title(\"Number of Followers v. Number of Likes\")\n",
    "pyplot.xlabel('Number of Followers')\n",
    "pyplot.ylabel('Number of Likes')"
   ]
  },
  {
   "cell_type": "code",
   "execution_count": 169,
   "metadata": {},
   "outputs": [
    {
     "data": {
      "text/plain": [
       "Text(0, 0.5, 'Number of Likes')"
      ]
     },
     "execution_count": 169,
     "metadata": {},
     "output_type": "execute_result"
    },
    {
     "data": {
      "image/png": "[encoded data removed]",
      "text/plain": [
       "<Figure size 432x288 with 1 Axes>"
      ]
     },
     "metadata": {},
     "output_type": "display_data"
    }
   ],
   "source": [
    "pyplot.scatter(data[\"tagged users followers\"], data[\"likes\"])\n",
    "pyplot.title(\"Number of Followers v. Number of Likes\")\n",
    "pyplot.xlabel('tagged users followers')\n",
    "pyplot.ylabel('Number of Likes')"
   ]
  },
  {
   "cell_type": "markdown",
   "metadata": {},
   "source": [
    "# __________________________________________________________________________\n",
    "### Followers of tagged users on posts and likes on those posts and followers on the posting account of those posts\n",
    "Tagged user followers & likes & followers"
   ]
  },
  {
   "cell_type": "code",
   "execution_count": 170,
   "metadata": {},
   "outputs": [
    {
     "data": {
      "text/plain": [
       "Text(0, 0.5, 'Number of Likes')"
      ]
     },
     "execution_count": 170,
     "metadata": {},
     "output_type": "execute_result"
    },
    {
     "data": {
      "image/png": "[encoded data removed]",
      "text/plain": [
       "<Figure size 432x288 with 1 Axes>"
      ]
     },
     "metadata": {},
     "output_type": "display_data"
    }
   ],
   "source": [
    "pyplot.scatter(data[\"tagged users followers\"], data[\"likes\"])\n",
    "pyplot.xlim(-10000,1000000)\n",
    "pyplot.title(\"Number of Tagged User Followers v. Number of Likes\")\n",
    "pyplot.xlabel('Tagged Users Followers')\n",
    "pyplot.ylabel('Number of Likes')"
   ]
  },
  {
   "cell_type": "code",
   "execution_count": 171,
   "metadata": {},
   "outputs": [
    {
     "data": {
      "text/plain": [
       "Text(0, 0.5, 'Number of Followers')"
      ]
     },
     "execution_count": 171,
     "metadata": {},
     "output_type": "execute_result"
    },
    {
     "data": {
      "image/png": "[encoded data removed]",
      "text/plain": [
       "<Figure size 432x288 with 1 Axes>"
      ]
     },
     "metadata": {},
     "output_type": "display_data"
    }
   ],
   "source": [
    "pyplot.scatter(data[\"tagged users followers\"], data[\"user followers\"])\n",
    "pyplot.xlim(-10000,1000000)\n",
    "pyplot.title(\"Number of Tagged Followers v. Number of Followers\")\n",
    "pyplot.xlabel('tagged users followers')\n",
    "pyplot.ylabel('Number of Followers')"
   ]
  },
  {
   "cell_type": "markdown",
   "metadata": {},
   "source": [
    "## Regressions and Multiple Regressions"
   ]
  },
  {
   "cell_type": "markdown",
   "metadata": {},
   "source": [
    "tagges users\ttagged users followers\ttags\ttag post totals  \tlikes\tcomments   user followers"
   ]
  },
  {
   "cell_type": "code",
   "execution_count": 176,
   "metadata": {},
   "outputs": [
    {
     "name": "stdout",
     "output_type": "stream",
     "text": [
      "Coefficient of followers:  0.00509285646773\n"
     ]
    }
   ],
   "source": [
    "regression_model = LinearRegression().fit(data[[\"user followers\"]], data[[\"likes\"]])\n",
    "coef = regression_model.coef_\n",
    "print(\"Coefficient of followers to likes: \", coef[0,0])"
   ]
  },
  {
   "cell_type": "code",
   "execution_count": 186,
   "metadata": {},
   "outputs": [
    {
     "name": "stdout",
     "output_type": "stream",
     "text": [
      "Coefficient of user followers to comments:  0.000112980182552\n"
     ]
    }
   ],
   "source": [
    "regression_model = LinearRegression().fit(data[[\"user followers\"]], data[[\"comments\"]])\n",
    "coef = regression_model.coef_\n",
    "print(\"Coefficient of user followers to comments: \", coef[0,0])"
   ]
  },
  {
   "cell_type": "code",
   "execution_count": 177,
   "metadata": {},
   "outputs": [
    {
     "name": "stdout",
     "output_type": "stream",
     "text": [
      "Coefficient of followers:  -0.00127520898108\n"
     ]
    }
   ],
   "source": [
    "regression_model = LinearRegression().fit(data[[\"tagged users followers\"]], data[[\"likes\"]])\n",
    "coef = regression_model.coef_\n",
    "print(\"Coefficient of tagged users followers to likes: \", coef[0,0])"
   ]
  },
  {
   "cell_type": "code",
   "execution_count": 185,
   "metadata": {},
   "outputs": [
    {
     "name": "stdout",
     "output_type": "stream",
     "text": [
      "Coefficient of tagged users followers to comments:  -0.000158505878195\n"
     ]
    }
   ],
   "source": [
    "regression_model = LinearRegression().fit(data[[\"tagged users followers\"]], data[[\"comments\"]])\n",
    "coef = regression_model.coef_\n",
    "print(\"Coefficient of tagged users followers to comments: \", coef[0,0])"
   ]
  },
  {
   "cell_type": "code",
   "execution_count": 184,
   "metadata": {},
   "outputs": [
    {
     "name": "stdout",
     "output_type": "stream",
     "text": [
      "Coefficient of likes to comments:  0.00827745621219\n"
     ]
    }
   ],
   "source": [
    "regression_model = LinearRegression().fit(data[[\"likes\"]], data[[\"comments\"]])\n",
    "coef = regression_model.coef_\n",
    "print(\"Coefficient of likes to comments: \", coef[0,0])"
   ]
  },
  {
   "cell_type": "code",
   "execution_count": 200,
   "metadata": {},
   "outputs": [
    {
     "name": "stdout",
     "output_type": "stream",
     "text": [
      "Coefficient of comments to likes:  33.7113377978\n"
     ]
    }
   ],
   "source": [
    "regression_model = LinearRegression().fit(data[[\"comments\"]], data[[\"likes\"]])\n",
    "coef = regression_model.coef_\n",
    "print(\"Coefficient of comments to likes: \", coef[0,0])\n",
    "# correlation != causation..."
   ]
  },
  {
   "cell_type": "code",
   "execution_count": 199,
   "metadata": {},
   "outputs": [
    {
     "data": {
      "image/png": "[encoded data removed]",
      "text/plain": [
       "<Figure size 432x288 with 1 Axes>"
      ]
     },
     "metadata": {},
     "output_type": "display_data"
    },
    {
     "data": {
      "image/png": "[encoded data removed]",
      "text/plain": [
       "<Figure size 432x288 with 1 Axes>"
      ]
     },
     "metadata": {},
     "output_type": "display_data"
    }
   ],
   "source": [
    "# np_comments = numpy.array\n",
    "# for i in data[[\"comments\"]]:\n",
    "#     numpy.append(np_comments, i)\n",
    "# np_likes = numpy.array\n",
    "# for i in data[[\"likes\"]]:\n",
    "#     numpy.append(np_likes, i)\n",
    "\n",
    "pyplot.plot(data[[\"comments\"]], 'r')\n",
    "pyplot.show()\n",
    "pyplot.plot(data[[\"likes\"]], 'g')\n",
    "pyplot.show()\n",
    "# pearson = pearson(np_comments, np_likes)\n",
    "# print('Pearson correlation coefficient:', pearson)"
   ]
  },
  {
   "cell_type": "markdown",
   "metadata": {},
   "source": [
    "## Predicting likes and comments"
   ]
  },
  {
   "cell_type": "code",
   "execution_count": 201,
   "metadata": {},
   "outputs": [
    {
     "name": "stdout",
     "output_type": "stream",
     "text": [
      "Horsepower coefficient:  33.7113377978\n",
      "Intercept:  1928273.32215\n"
     ]
    }
   ],
   "source": [
    "regression = LinearRegression().fit(data[[\"comments\"]], data[[\"likes\"]])  \n",
    "coefficient = regression.coef_\n",
    "intercept = regression.intercept_\n",
    "print('Horsepower coefficient: ', coefficient[0,0])\n",
    "print('Intercept: ', intercept[0])"
   ]
  },
  {
   "cell_type": "code",
   "execution_count": 203,
   "metadata": {},
   "outputs": [],
   "source": [
    "##### ^^^^ do this shit for a bunch of variable combos (from PROBLEM SET 7)"
   ]
  },
  {
   "cell_type": "code",
   "execution_count": null,
   "metadata": {},
   "outputs": [],
   "source": []
  }
 ],
 "metadata": {
  "kernelspec": {
   "display_name": "Python 3",
   "language": "python",
   "name": "python3"
  },
  "language_info": {
   "codemirror_mode": {
    "name": "ipython",
    "version": 3
   },
   "file_extension": ".py",
   "mimetype": "text/x-python",
   "name": "python",
   "nbconvert_exporter": "python",
   "pygments_lexer": "ipython3",
   "version": "3.6.8"
  }
 },
 "nbformat": 4,
 "nbformat_minor": 2
}
